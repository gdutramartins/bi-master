{
 "cells": [
  {
   "cell_type": "markdown",
   "id": "59154852",
   "metadata": {},
   "source": [
    "# Desafio NER - Treino Spacy \n",
    "* Treinamento com Entidades Separadas, um modelo para cada label - Bons resultados quando executados separados, bons resultados se testados com datasets separados, mas resultados ruins quando utilizado um dataset com todos os labels.\n",
    "* Treinamento com Todas as Entidades - Em andamento"
   ]
  },
  {
   "cell_type": "code",
   "execution_count": 1,
   "id": "33f8c569",
   "metadata": {},
   "outputs": [],
   "source": [
    "import os\n",
    "from pathlib import Path\n",
    "import re\n",
    "import string\n",
    "import json\n",
    "import random\n",
    "import sys\n",
    "import subprocess\n",
    "import time\n",
    "import datetime\n",
    "import shutil\n",
    "\n",
    "from tqdm import tqdm\n",
    "import spacy\n",
    "from spacy.tokens import DocBin\n",
    "from spacy.util import minibatch, compounding\n",
    "from spacy.training import Example\n",
    "\n",
    "KMP_DUPLICATE_LIB_OK=True"
   ]
  },
  {
   "cell_type": "code",
   "execution_count": 12,
   "id": "cd73c3e6",
   "metadata": {},
   "outputs": [],
   "source": [
    "LABEL_DRUG_PROTEIN = 'DRUG-PROTEIN'\n",
    "LABEL_CHEMICAL = 'CHEMICAL'\n",
    "LABEL_DISEASE = 'DISEASE'\n",
    "LABEL_SPECIES = 'SPECIES'\n",
    "\n",
    "LABEL_LIST = [LABEL_DRUG_PROTEIN,\n",
    "              LABEL_CHEMICAL,\n",
    "              LABEL_DISEASE,    \n",
    "              LABEL_SPECIES]\n",
    "\n",
    "LABEL_TO_DIR = {\n",
    "    LABEL_DRUG_PROTEIN: ['BC2GM', 'JNLPBA'],\n",
    "    LABEL_CHEMICAL: ['BC4CHEMD','BC5CDR-chem'],\n",
    "    LABEL_DISEASE: ['BC5CDR-disease', 'NCBI-disease'],    \n",
    "    LABEL_SPECIES: ['linnaeus', 's800']\n",
    "}\n",
    "\n",
    "DATA_ORIGIN_PATH = os.path.join(\"data\",\"origin\")\n",
    "DATA_PREPARED_PATH = os.path.join(\"data\", \"prepared\")\n",
    "DATA_AGGREGATE_PATH = os.path.join(DATA_PREPARED_PATH, \"aggregate\")\n",
    "\n",
    "WORD_VECTOR_PATH = \"word_vec\"\n",
    "WORD_VECTOR_MODEL_NAME = os.path.join(WORD_VECTOR_PATH,\"biomed.model\")\n",
    "WORD_VECTOR_FILE_NAME = os.path.join(WORD_VECTOR_PATH,\"biomed_word2vec.txt\")\n",
    "WORD_VECTOR_GLOVE = os.path.join(WORD_VECTOR_PATH,\"glove.840B.300d.txt\")\n",
    "WORD_VECTOR_PUBMED_PMC_ORIGINAL = os.path.join(WORD_VECTOR_PATH, \"ri-3gram-400-tsv\", \"vectors.tsv\")\n",
    "VOCAB_PUBMED_PMC = os.path.join(WORD_VECTOR_PATH, \"ri-3gram-400-tsv\", \"vocab.tsv\")\n",
    "WORD_VECTOR_PUBMED_PMC_PREPARED = os.path.join(WORD_VECTOR_PATH, \"pubmed_pmc_word2vec.txt\")\n",
    "\n",
    "\n",
    "MODEL_PATH = \"model\"\n",
    "MODEL_TRAIN_PATH = os.path.join(MODEL_PATH, \"train\")\n",
    "MODEL_ACTUAL_PATH = os.path.join(MODEL_PATH, \"actual\")\n",
    "\n",
    "TSV_EXTENSION = \".tsv\"\n",
    "JSON_EXTENSION = \".json\"\n",
    "SPACY_EXTENSION = \".spacy\"\n",
    "\n",
    "AUG_SUFFIXE = \"_aug\"\n",
    "\n",
    "TRAIN_DEV_DATASET = \"train_dev\"\n",
    "TRAIN_DATASET = \"train\"\n",
    "TRAIN_AUGMENT_DATASET = \"train_aug\"\n",
    "VALIDATE_DATASET = \"devel\"\n",
    "TEST_DATASET = \"test\"\n",
    "TRAIN_AUG_VALIDATE_DATASET = \"train_dev_aug\"\n",
    "\n",
    "DATASET_TYPE = [TRAIN_DATASET, VALIDATE_DATASET, TEST_DATASET]"
   ]
  },
  {
   "cell_type": "markdown",
   "id": "629a9c95",
   "metadata": {},
   "source": [
    "#### Carrega os datasets convertidos para formato json conhecido do spacy. A versão 3 utiliza a classe *Example* e será tratada no treinamento"
   ]
  },
  {
   "cell_type": "code",
   "execution_count": 3,
   "id": "1bd74d52",
   "metadata": {},
   "outputs": [],
   "source": [
    "def read_file(file):\n",
    "    data = []\n",
    "    with open (file, \"r\", encoding=\"utf-8\") as f:\n",
    "        json_data = json.load(f)\n",
    "    for an in json_data:\n",
    "        texto = an[\"texto\"].lower()\n",
    "        entities = []\n",
    "        for entidade in an[\"entities\"]:\n",
    "            info = (entidade[\"start\"], entidade[\"end\"], entidade[\"label\"])\n",
    "            entities.append(info)\n",
    "        data.append((texto,{\"entities\":entities}))\n",
    "    return data"
   ]
  },
  {
   "cell_type": "code",
   "execution_count": 4,
   "id": "1355fdc4",
   "metadata": {},
   "outputs": [],
   "source": [
    "def load_data(label, dataset_type, load_aug_file=False):\n",
    "    file = os.path.join(DATA_PREPARED_PATH, label, label + \"-\" + dataset_type + JSON_EXTENSION)\n",
    "    data = read_file(file) \n",
    "    \n",
    "    if load_aug_file:\n",
    "        file_aug = os.path.join(DATA_PREPARED_PATH, label, label + \"-\" + dataset_type + AUG_SUFFIXE + JSON_EXTENSION)\n",
    "        data.extend(read_file(file_aug))\n",
    "    return data"
   ]
  },
  {
   "cell_type": "markdown",
   "id": "019faf6f",
   "metadata": {},
   "source": [
    "#### Converte os dados em formato válido até a versão 2.0 do Spacy para a classe Example, que passou a ser utilizada na versão 3"
   ]
  },
  {
   "cell_type": "code",
   "execution_count": 5,
   "id": "0ef253c1",
   "metadata": {
    "tags": []
   },
   "outputs": [],
   "source": [
    "def format_data_for_evaluation(data, nlp_model): \n",
    "    data_formated = []\n",
    "    for text, annotations in data:\n",
    "        doc = nlp_model.make_doc(text)\n",
    "        example = Example.from_dict(doc, annotations)\n",
    "        data_formated.append(example)\n",
    "    return data_formated\n"
   ]
  },
  {
   "cell_type": "markdown",
   "id": "cf2f837f",
   "metadata": {},
   "source": [
    "### Treinamento de um Label utilizando sua respectiva base para treinamento"
   ]
  },
  {
   "cell_type": "code",
   "execution_count": 6,
   "id": "19890d83",
   "metadata": {},
   "outputs": [],
   "source": [
    "def create_model_with_word_vector(label, word_vec):\n",
    "    path = os.path.join(MODEL_TRAIN_PATH, label)\n",
    "    if (os.path.exists):\n",
    "        shutil.rmtree(path, ignore_errors=True)\n",
    "    \n",
    "    Path(path).mkdir(parents=True, exist_ok=True)\n",
    "    \n",
    "    subprocess.run([sys.executable,\n",
    "                    \"-m\",\n",
    "                    \"spacy\",\n",
    "                    \"init\",\n",
    "                    \"vectors\",\n",
    "                    \"en\",\n",
    "                    word_vec,\n",
    "                    path,\n",
    "                    ])\n",
    "    \n",
    "    return spacy.load(path)"
   ]
  },
  {
   "cell_type": "code",
   "execution_count": 7,
   "id": "2ede81d2",
   "metadata": {},
   "outputs": [],
   "source": [
    "def train_spacy_one_label(train_data, validate_data, iterations, label, word_embedding=None, description=\"\"):\n",
    "    ner_name = label + \"_ner\"    \n",
    "    if word_embedding == None:\n",
    "        nlp_train = spacy.blank(\"en\")\n",
    "    else:\n",
    "        nlp_train = create_model_with_word_vector(label, word_embedding)\n",
    "    \n",
    "    ner = nlp_train.add_pipe(\"ner\",name=ner_name)\n",
    "    ner.add_label(label)    \n",
    "    \n",
    "    best_ents_p = -1\n",
    "    best_ents_r = -1\n",
    "    best_ents_f = -1\n",
    "    \n",
    "    with open(os.path.join(MODEL_TRAIN_PATH, \"log_treino.txt\" ) , \"a\") as log_file:\n",
    "        log_file.write(\"\\n\")\n",
    "        log_file.write(f\"=======> [LABELS ISOLADOS] Inicio Treino {time.strftime('%d/%m/%Y %H:%M:%S', time.gmtime(time.time()))} ===================================== \\n\")\n",
    "        log_file.write(f\"Detalhes: {description} \\n\\n\")\n",
    "        \n",
    "        other_pipes = [pipe for pipe in nlp_train.pipe_names if pipe != ner_name]\n",
    "        with nlp_train.disable_pipes(*other_pipes):\n",
    "            optimizer = nlp_train.begin_training()\n",
    "            #optimizer = nlp_train.create_optimizer()\n",
    "            print(f\"{'#IT':5} | {'Loss':8} | {'Prec':6} | {'Recall':6} | {'F_Scr':6} | {'Save Mod':8} | {'Duração':10} \")\n",
    "            log_file.write(f\"{'#IT':5} | {'Loss':8} | {'Prec':6} | {'Recall':6} | {'F_Scr':6} | {'Save Mod':8} | {'Duracao':10} \\n\")\n",
    "            \n",
    "            for itn in range(iterations):\n",
    "                start_time = time.time()\n",
    "                linha = f\"{str(itn):5} | \"\n",
    "                random.shuffle(train_data)\n",
    "                losses = {}\n",
    "                batches = minibatch(train_data, size=512)\n",
    "\n",
    "                for batch in batches:\n",
    "                    for text, annotations in batch:\n",
    "                        doc = nlp_train.make_doc(text)\n",
    "                        example = Example.from_dict(doc, annotations)\n",
    "                        nlp_train.update( [example],\n",
    "                            drop=0.2,  \n",
    "                            sgd=optimizer,\n",
    "                            losses=losses)                \n",
    "                \n",
    "                validate_metrics = nlp_train.evaluate(format_data_for_evaluation(validate_data, nlp_train))\n",
    "                linha += f\"{losses[list(losses)[0]]:08.2f} | {validate_metrics['ents_p']*100:06.2f} | {validate_metrics['ents_r']*100:06.2f} | {validate_metrics['ents_f']*100:06.2f} | \"\n",
    "\n",
    "                if (validate_metrics[\"ents_f\"] > best_ents_f):\n",
    "                    best_ents_r = validate_metrics[\"ents_r\"]\n",
    "                    best_ents_f = validate_metrics[\"ents_f\"]\n",
    "                    best_ents_p = validate_metrics[\"ents_p\"]\n",
    "                    linha += f\"{'S':8} | \"\n",
    "\n",
    "                    path = os.path.join(MODEL_TRAIN_PATH, label)\n",
    "                    Path(path).mkdir(parents=True, exist_ok=True)\n",
    "                    nlp_train.to_disk(path)                \n",
    "                else:\n",
    "                    linha += f\"{'N':8} | \"\n",
    "\n",
    "                elapsed = time.strftime(\"%H:%M:%S\", time.gmtime(time.time() - start_time))\n",
    "                linha += elapsed\n",
    "\n",
    "                linha.replace(\".\", \",\")\n",
    "                print(linha)\n",
    "                log_file.write(linha + \"\\n\")\n",
    "                log_file.flush()\n",
    "                \n",
    "    return nlp_train"
   ]
  },
  {
   "cell_type": "code",
   "execution_count": 8,
   "id": "2b1281df",
   "metadata": {},
   "outputs": [],
   "source": [
    "def executa_teste_modelo(model_path, label):\n",
    "    start_time = time.time()\n",
    "    nlp_test = spacy.load(os.path.join(model_path, label))\n",
    "    test_data = load_data(label, TEST_DATASET)\n",
    "    test_data_spacy=format_data_for_evaluation(test_data, nlp_test)\n",
    "    test_metrics = nlp_test.evaluate(test_data_spacy)\n",
    "    elapsed = time.strftime(\"%H:%M:%S\", time.gmtime(time.time() - start_time))\n",
    "    with open(os.path.join(MODEL_TRAIN_PATH, \"log_treino.txt\" ) , \"a\") as log_file:\n",
    "        linha = f\"{'Val.':5} | \"\n",
    "        linha += f\"{'':8} | {test_metrics['ents_p']*100:06.2f} | {test_metrics['ents_r']*100:06.2f} | {test_metrics['ents_f']*100:06.2f} | {'':8} | {elapsed} \"\n",
    "        linha.replace(\".\", \",\")\n",
    "        log_file.write(linha)\n",
    "        print(linha)\n",
    "    "
   ]
  },
  {
   "cell_type": "code",
   "execution_count": 9,
   "id": "7fff04c0",
   "metadata": {},
   "outputs": [],
   "source": [
    "def treina_modelo(label, word_embedding=None, load_aug_file=False, description=\"\"):\n",
    "    \n",
    "    validate_data = load_data(label, VALIDATE_DATASET)    \n",
    "    train_data =  load_data(label, TRAIN_DATASET, load_aug_file)\n",
    "    nlp = train_spacy_one_label(train_data,\n",
    "                                validate_data,                                 \n",
    "                                10, \n",
    "                                label, \n",
    "                                word_embedding,\n",
    "                                description=description)"
   ]
  },
  {
   "cell_type": "markdown",
   "id": "0bd72dbf",
   "metadata": {},
   "source": [
    "### Treinamento - Validação após cada epoch (10 no total) e medição final com a base de teste do melhor modelo."
   ]
  },
  {
   "cell_type": "code",
   "execution_count": 14,
   "id": "517e39ac",
   "metadata": {},
   "outputs": [
    {
     "name": "stdout",
     "output_type": "stream",
     "text": [
      "#IT   | Loss     | Prec   | Recall | F_Scr  | Save Mod | Duração    \n",
      "0     | 04724.02 | 093.16 | 054.70 | 068.93 | S        | 00:06:10\n",
      "1     | 03265.02 | 084.49 | 068.68 | 075.77 | S        | 00:06:15\n",
      "2     | 02691.76 | 083.18 | 066.85 | 074.13 | N        | 00:06:10\n",
      "3     | 02478.83 | 080.96 | 070.68 | 075.48 | N        | 00:06:11\n",
      "4     | 02172.41 | 074.71 | 070.68 | 072.64 | N        | 00:06:10\n",
      "5     | 02118.62 | 081.97 | 065.21 | 072.63 | N        | 00:06:10\n",
      "6     | 01970.32 | 077.36 | 070.23 | 073.62 | N        | 00:06:12\n",
      "7     | 01817.55 | 082.87 | 068.49 | 075.00 | N        | 00:06:12\n",
      "8     | 01845.41 | 082.90 | 069.95 | 075.88 | S        | 00:06:15\n",
      "9     | 01820.76 | 083.85 | 068.77 | 075.56 | N        | 00:06:11\n"
     ]
    }
   ],
   "source": [
    "treina_modelo(LABEL_SPECIES, \n",
    "              word_embedding=WORD_VECTOR_GLOVE, \n",
    "              load_aug_file=False, \n",
    "              description=\"Treinamento com Embedding Glove, Lowercase\")"
   ]
  },
  {
   "cell_type": "code",
   "execution_count": 10,
   "id": "6041021e",
   "metadata": {
    "tags": []
   },
   "outputs": [
    {
     "name": "stdout",
     "output_type": "stream",
     "text": [
      "Val.  |          | 080.77 | 065.86 | 072.56 |          | 00:00:10 \n"
     ]
    }
   ],
   "source": [
    "executa_teste_modelo(MODEL_TRAIN_PATH, LABEL_SPECIES)"
   ]
  },
  {
   "cell_type": "code",
   "execution_count": 38,
   "id": "fb266da9",
   "metadata": {},
   "outputs": [
    {
     "name": "stdout",
     "output_type": "stream",
     "text": [
      "#IT   | Loss     | Prec   | Recall | F_Scr  | Save Mod | Duração    \n"
     ]
    },
    {
     "name": "stderr",
     "output_type": "stream",
     "text": [
      "C:\\Users\\gdutr\\miniconda3\\envs\\nlp-gpu\\lib\\site-packages\\spacy\\training\\iob_utils.py:139: UserWarning: [W030] Some entities could not be aligned in the text \"One of these small inteins might be inactive or a ...\" with entities \"[(13, 26, 'DRUG-PROTEIN'), (-1, 13, 'DRUG-PROTEIN'...\". Use `spacy.training.offsets_to_biluo_tags(nlp.make_doc(text), entities)` to check the alignment. Misaligned entities ('-') will be ignored during training.\n",
      "  warnings.warn(\n",
      "C:\\Users\\gdutr\\miniconda3\\envs\\nlp-gpu\\lib\\site-packages\\spacy\\training\\iob_utils.py:139: UserWarning: [W030] Some entities could not be aligned in the text \"The so - called SH3 segment of the linker domain ,...\" with entities \"[(-1, 10, 'DRUG-PROTEIN')]\". Use `spacy.training.offsets_to_biluo_tags(nlp.make_doc(text), entities)` to check the alignment. Misaligned entities ('-') will be ignored during training.\n",
      "  warnings.warn(\n"
     ]
    },
    {
     "ename": "ValueError",
     "evalue": "[E103] Trying to set conflicting doc.ents: '(10, 20, 'DRUG-PROTEIN')' and '(-1, 29, 'DRUG-PROTEIN')'. A token can only be part of one entity, so make sure the entities you're setting don't overlap. To work with overlapping entities, consider using doc.spans instead.",
     "output_type": "error",
     "traceback": [
      "\u001b[1;31m---------------------------------------------------------------------------\u001b[0m",
      "\u001b[1;31mValueError\u001b[0m                                Traceback (most recent call last)",
      "\u001b[1;32m<ipython-input-38-10a75fda1a44>\u001b[0m in \u001b[0;36m<module>\u001b[1;34m\u001b[0m\n\u001b[1;32m----> 1\u001b[1;33m treina_modelo(LABEL_DRUG_PROTEIN, \n\u001b[0m\u001b[0;32m      2\u001b[0m               \u001b[0mword_embedding\u001b[0m\u001b[1;33m=\u001b[0m\u001b[1;32mNone\u001b[0m\u001b[1;33m,\u001b[0m\u001b[1;33m\u001b[0m\u001b[1;33m\u001b[0m\u001b[0m\n\u001b[0;32m      3\u001b[0m               \u001b[0mload_aug_file\u001b[0m\u001b[1;33m=\u001b[0m\u001b[1;32mTrue\u001b[0m\u001b[1;33m,\u001b[0m\u001b[1;33m\u001b[0m\u001b[1;33m\u001b[0m\u001b[0m\n\u001b[0;32m      4\u001b[0m               description=\"Treinamento DRUG PROTEIN com arquivo augment_file, com Validação\")\n",
      "\u001b[1;32m<ipython-input-10-6cc3bf05bb1d>\u001b[0m in \u001b[0;36mtreina_modelo\u001b[1;34m(label, word_embedding, load_aug_file, description)\u001b[0m\n\u001b[0;32m      3\u001b[0m     \u001b[0mvalidate_data\u001b[0m \u001b[1;33m=\u001b[0m \u001b[0mload_data\u001b[0m\u001b[1;33m(\u001b[0m\u001b[0mlabel\u001b[0m\u001b[1;33m,\u001b[0m \u001b[0mVALIDATE_DATASET\u001b[0m\u001b[1;33m)\u001b[0m\u001b[1;33m\u001b[0m\u001b[1;33m\u001b[0m\u001b[0m\n\u001b[0;32m      4\u001b[0m     \u001b[0mtrain_data\u001b[0m \u001b[1;33m=\u001b[0m  \u001b[0mload_data\u001b[0m\u001b[1;33m(\u001b[0m\u001b[0mlabel\u001b[0m\u001b[1;33m,\u001b[0m \u001b[0mTRAIN_DATASET\u001b[0m\u001b[1;33m,\u001b[0m \u001b[0mload_aug_file\u001b[0m\u001b[1;33m)\u001b[0m\u001b[1;33m\u001b[0m\u001b[1;33m\u001b[0m\u001b[0m\n\u001b[1;32m----> 5\u001b[1;33m     nlp = train_spacy_one_label(train_data,\n\u001b[0m\u001b[0;32m      6\u001b[0m                                 \u001b[0mvalidate_data\u001b[0m\u001b[1;33m,\u001b[0m\u001b[1;33m\u001b[0m\u001b[1;33m\u001b[0m\u001b[0m\n\u001b[0;32m      7\u001b[0m                                 \u001b[1;36m10\u001b[0m\u001b[1;33m,\u001b[0m\u001b[1;33m\u001b[0m\u001b[1;33m\u001b[0m\u001b[0m\n",
      "\u001b[1;32m<ipython-input-8-0f8bd988d61e>\u001b[0m in \u001b[0;36mtrain_spacy_one_label\u001b[1;34m(train_data, validate_data, iterations, label, word_embedding, description)\u001b[0m\n\u001b[0;32m     35\u001b[0m                     \u001b[1;32mfor\u001b[0m \u001b[0mtext\u001b[0m\u001b[1;33m,\u001b[0m \u001b[0mannotations\u001b[0m \u001b[1;32min\u001b[0m \u001b[0mbatch\u001b[0m\u001b[1;33m:\u001b[0m\u001b[1;33m\u001b[0m\u001b[1;33m\u001b[0m\u001b[0m\n\u001b[0;32m     36\u001b[0m                         \u001b[0mdoc\u001b[0m \u001b[1;33m=\u001b[0m \u001b[0mnlp_train\u001b[0m\u001b[1;33m.\u001b[0m\u001b[0mmake_doc\u001b[0m\u001b[1;33m(\u001b[0m\u001b[0mtext\u001b[0m\u001b[1;33m)\u001b[0m\u001b[1;33m\u001b[0m\u001b[1;33m\u001b[0m\u001b[0m\n\u001b[1;32m---> 37\u001b[1;33m                         \u001b[0mexample\u001b[0m \u001b[1;33m=\u001b[0m \u001b[0mExample\u001b[0m\u001b[1;33m.\u001b[0m\u001b[0mfrom_dict\u001b[0m\u001b[1;33m(\u001b[0m\u001b[0mdoc\u001b[0m\u001b[1;33m,\u001b[0m \u001b[0mannotations\u001b[0m\u001b[1;33m)\u001b[0m\u001b[1;33m\u001b[0m\u001b[1;33m\u001b[0m\u001b[0m\n\u001b[0m\u001b[0;32m     38\u001b[0m                         nlp_train.update( [example],\n\u001b[0;32m     39\u001b[0m                             \u001b[0mdrop\u001b[0m\u001b[1;33m=\u001b[0m\u001b[1;36m0.2\u001b[0m\u001b[1;33m,\u001b[0m\u001b[1;33m\u001b[0m\u001b[1;33m\u001b[0m\u001b[0m\n",
      "\u001b[1;32m~\\miniconda3\\envs\\nlp-gpu\\lib\\site-packages\\spacy\\training\\example.pyx\u001b[0m in \u001b[0;36mspacy.training.example.Example.from_dict\u001b[1;34m()\u001b[0m\n",
      "\u001b[1;32m~\\miniconda3\\envs\\nlp-gpu\\lib\\site-packages\\spacy\\training\\example.pyx\u001b[0m in \u001b[0;36mspacy.training.example.annotations_to_doc\u001b[1;34m()\u001b[0m\n",
      "\u001b[1;32m~\\miniconda3\\envs\\nlp-gpu\\lib\\site-packages\\spacy\\training\\example.pyx\u001b[0m in \u001b[0;36mspacy.training.example._add_entities_to_doc\u001b[1;34m()\u001b[0m\n",
      "\u001b[1;32m~\\miniconda3\\envs\\nlp-gpu\\lib\\site-packages\\spacy\\training\\iob_utils.py\u001b[0m in \u001b[0;36moffsets_to_biluo_tags\u001b[1;34m(doc, entities, missing)\u001b[0m\n\u001b[0;32m    102\u001b[0m             \u001b[1;32mfor\u001b[0m \u001b[0mtoken_index\u001b[0m \u001b[1;32min\u001b[0m \u001b[0mrange\u001b[0m\u001b[1;33m(\u001b[0m\u001b[0mstart_char\u001b[0m\u001b[1;33m,\u001b[0m \u001b[0mend_char\u001b[0m\u001b[1;33m)\u001b[0m\u001b[1;33m:\u001b[0m\u001b[1;33m\u001b[0m\u001b[1;33m\u001b[0m\u001b[0m\n\u001b[0;32m    103\u001b[0m                 \u001b[1;32mif\u001b[0m \u001b[0mtoken_index\u001b[0m \u001b[1;32min\u001b[0m \u001b[0mtokens_in_ents\u001b[0m\u001b[1;33m.\u001b[0m\u001b[0mkeys\u001b[0m\u001b[1;33m(\u001b[0m\u001b[1;33m)\u001b[0m\u001b[1;33m:\u001b[0m\u001b[1;33m\u001b[0m\u001b[1;33m\u001b[0m\u001b[0m\n\u001b[1;32m--> 104\u001b[1;33m                     raise ValueError(\n\u001b[0m\u001b[0;32m    105\u001b[0m                         Errors.E103.format(\n\u001b[0;32m    106\u001b[0m                             span1=(\n",
      "\u001b[1;31mValueError\u001b[0m: [E103] Trying to set conflicting doc.ents: '(10, 20, 'DRUG-PROTEIN')' and '(-1, 29, 'DRUG-PROTEIN')'. A token can only be part of one entity, so make sure the entities you're setting don't overlap. To work with overlapping entities, consider using doc.spans instead."
     ]
    }
   ],
   "source": [
    "treina_modelo(LABEL_DRUG_PROTEIN, \n",
    "              word_embedding=None, \n",
    "              load_aug_file=True, \n",
    "              description=\"Treinamento DRUG PROTEIN com arquivo augment_file, com Validação\")"
   ]
  },
  {
   "cell_type": "code",
   "execution_count": 13,
   "id": "1c8b1910",
   "metadata": {},
   "outputs": [
    {
     "name": "stdout",
     "output_type": "stream",
     "text": [
      "{'token_acc': 1.0, 'token_p': 1.0, 'token_r': 1.0, 'token_f': 1.0, 'ents_p': 0.6930966469428008, 'ents_r': 0.6991087060321503, 'ents_f': 0.6960896953369518, 'ents_per_type': {'DRUG-PROTEIN': {'p': 0.6930966469428008, 'r': 0.6991087060321503, 'f': 0.6960896953369518}}, 'speed': 40232.105882322045}\n"
     ]
    }
   ],
   "source": [
    "nlp = spacy.load(os.path.join(MODEL_TRAIN_PATH, LABEL_DRUG_PROTEIN))\n",
    "test_data = load_data(LABEL_DRUG_PROTEIN, TEST_DATASET, group_by_label=True)\n",
    "test_data_spacy=format_data_for_evaluation(test_data, nlp)\n",
    "test_metrics = nlp.evaluate(test_data_spacy)\n",
    "print(test_metrics)"
   ]
  },
  {
   "cell_type": "code",
   "execution_count": null,
   "id": "8558a744",
   "metadata": {},
   "outputs": [],
   "source": []
  },
  {
   "cell_type": "code",
   "execution_count": 14,
   "id": "eef70911",
   "metadata": {},
   "outputs": [
    {
     "name": "stdout",
     "output_type": "stream",
     "text": [
      "#IT   | Loss     | Prec   | Recall | F_Scr  | Save Mod | Duração    \n",
      "0     | 30403.22 | 082.41 | 069.40 | 075.35 | S        | 00:15:17\n",
      "1     | 20341.30 | 074.54 | 080.48 | 077.39 | S        | 00:15:19\n",
      "2     | 17704.59 | 080.42 | 076.18 | 078.25 | S        | 00:15:25\n",
      "3     | 15935.56 | 083.54 | 075.80 | 079.48 | S        | 00:15:31\n",
      "4     | 15167.09 | 081.22 | 079.55 | 080.37 | S        | 00:15:34\n",
      "5     | 14732.48 | 083.85 | 075.96 | 079.71 | N        | 00:15:28\n",
      "6     | 14471.01 | 080.07 | 078.07 | 079.05 | N        | 00:15:41\n",
      "7     | 14193.32 | 082.22 | 079.32 | 080.74 | S        | 00:15:54\n",
      "8     | 13959.60 | 072.66 | 075.11 | 073.86 | N        | 00:15:33\n",
      "9     | 13646.91 | 080.70 | 078.33 | 079.50 | N        | 00:15:26\n"
     ]
    }
   ],
   "source": [
    "train_data =  load_data(LABEL_CHEMICAL, TRAIN_DATASET, group_by_label=True)\n",
    "validate_data = load_data(LABEL_CHEMICAL, VALIDATE_DATASET, group_by_label=True)\n",
    "nlp = train_spacy_one_label(train_data,validate_data, 10, LABEL_CHEMICAL, word_embedding=WORD_VECTOR_GLOVE ,description=\"Treino Isolado de Chemical com WordVec Glove 840B.300d\")"
   ]
  },
  {
   "cell_type": "code",
   "execution_count": 15,
   "id": "1de3a190",
   "metadata": {},
   "outputs": [
    {
     "name": "stdout",
     "output_type": "stream",
     "text": [
      "{'token_acc': 1.0, 'token_p': 1.0, 'token_r': 1.0, 'token_f': 1.0, 'ents_p': 0.8280228758169934, 'ents_r': 0.7915134554684196, 'ents_f': 0.8093566473122931, 'ents_per_type': {'CHEMICAL': {'p': 0.8280228758169934, 'r': 0.7915134554684196, 'f': 0.8093566473122931}}, 'speed': 40307.3784585951}\n"
     ]
    }
   ],
   "source": [
    "nlp = spacy.load(os.path.join(MODEL_TRAIN_PATH, LABEL_CHEMICAL))\n",
    "test_data = load_data(LABEL_CHEMICAL, TEST_DATASET, group_by_label=True)\n",
    "test_data_spacy=format_data_for_evaluation(test_data, nlp)\n",
    "test_metrics = nlp.evaluate(test_data_spacy)\n",
    "print(test_metrics)"
   ]
  },
  {
   "cell_type": "code",
   "execution_count": null,
   "id": "9e657bce",
   "metadata": {},
   "outputs": [],
   "source": []
  },
  {
   "cell_type": "code",
   "execution_count": 16,
   "id": "cd49a84e",
   "metadata": {},
   "outputs": [
    {
     "name": "stdout",
     "output_type": "stream",
     "text": [
      "#IT   | Loss     | Prec   | Recall | F_Scr  | Save Mod | Duração    \n",
      "0     | 09596.31 | 076.89 | 059.37 | 067.00 | S        | 00:04:14\n",
      "1     | 06218.46 | 077.50 | 069.96 | 073.54 | S        | 00:04:14\n",
      "2     | 05396.39 | 078.43 | 069.06 | 073.45 | N        | 00:04:14\n",
      "3     | 04872.73 | 074.57 | 072.88 | 073.71 | S        | 00:04:19\n",
      "4     | 04394.85 | 073.00 | 066.24 | 069.46 | N        | 00:04:19\n",
      "5     | 03992.47 | 078.99 | 070.06 | 074.26 | S        | 00:04:25\n",
      "6     | 03731.85 | 078.80 | 070.61 | 074.48 | S        | 00:04:17\n",
      "7     | 03602.43 | 078.48 | 070.59 | 074.33 | N        | 00:04:13\n",
      "8     | 03327.46 | 082.83 | 068.07 | 074.73 | S        | 00:04:16\n",
      "9     | 03210.17 | 076.92 | 073.04 | 074.93 | S        | 00:04:25\n"
     ]
    }
   ],
   "source": [
    "train_data =  load_data(LABEL_DISEASE, TRAIN_DATASET, group_by_label=True)\n",
    "validate_data = load_data(LABEL_DISEASE, VALIDATE_DATASET, group_by_label=True)\n",
    "nlp = train_spacy_one_label(train_data,validate_data, 10, LABEL_DISEASE, word_embedding=WORD_VECTOR_GLOVE ,description=\"Treino Isolado de Disease com WordVec Glove 840B.300d\")"
   ]
  },
  {
   "cell_type": "code",
   "execution_count": 17,
   "id": "e2b3d378",
   "metadata": {},
   "outputs": [
    {
     "name": "stdout",
     "output_type": "stream",
     "text": [
      "{'token_acc': 1.0, 'token_p': 1.0, 'token_r': 1.0, 'token_f': 1.0, 'ents_p': 0.7606013878180417, 'ents_r': 0.7329123328380386, 'ents_f': 0.7465001891789633, 'ents_per_type': {'DISEASE': {'p': 0.7606013878180417, 'r': 0.7329123328380386, 'f': 0.7465001891789633}}, 'speed': 40236.75947895969}\n"
     ]
    }
   ],
   "source": [
    "nlp = spacy.load(os.path.join(MODEL_TRAIN_PATH, LABEL_DISEASE))\n",
    "test_data = load_data(LABEL_DISEASE, TEST_DATASET, group_by_label=True)\n",
    "test_data_spacy=format_data_for_evaluation(test_data, nlp)\n",
    "test_metrics = nlp.evaluate(test_data_spacy)\n",
    "print(test_metrics)"
   ]
  },
  {
   "cell_type": "code",
   "execution_count": null,
   "id": "af104410",
   "metadata": {},
   "outputs": [],
   "source": [
    "train_data =  load_data(LABEL_DISEASE, TRAIN_DATASET, group_by_label=False)\n",
    "validate_data = load_data(LABEL_DISEASE, VALIDATE_DATASET, group_by_label=False)\n",
    "nlp = train_spacy_muliple_label(train_data,validate_data, 10, LABEL_LIST, \"Treino Agregado, Multiplos Labels com uma camada de NER\")"
   ]
  }
 ],
 "metadata": {
  "kernelspec": {
   "display_name": "Python 3",
   "language": "python",
   "name": "python3"
  },
  "language_info": {
   "codemirror_mode": {
    "name": "ipython",
    "version": 3
   },
   "file_extension": ".py",
   "mimetype": "text/x-python",
   "name": "python",
   "nbconvert_exporter": "python",
   "pygments_lexer": "ipython3",
   "version": "3.8.8"
  }
 },
 "nbformat": 4,
 "nbformat_minor": 5
}
