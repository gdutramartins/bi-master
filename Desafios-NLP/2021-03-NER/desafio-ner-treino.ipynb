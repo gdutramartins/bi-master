{
 "cells": [
  {
   "cell_type": "markdown",
   "id": "english-kenya",
   "metadata": {},
   "source": [
    "# Desafio NER - Treino Spacy \n",
    "* Treinamento com Entidades Separadas, um modelo para cada label - Bons resultados quando executados separados, bons resultados se testados com datasets separados, mas resultados ruins quando utilizado um dataset com todos os labels.\n",
    "* Treinamento com Todas as Entidades - Em andamento"
   ]
  },
  {
   "cell_type": "code",
   "execution_count": 1,
   "id": "consistent-florist",
   "metadata": {},
   "outputs": [],
   "source": [
    "import os\n",
    "from pathlib import Path\n",
    "import re\n",
    "import string\n",
    "import json\n",
    "import random\n",
    "import sys\n",
    "import time\n",
    "import datetime\n",
    "\n",
    "from tqdm import tqdm\n",
    "import spacy\n",
    "from spacy.tokens import DocBin\n",
    "from spacy.util import minibatch, compounding\n",
    "from spacy.training import Example\n"
   ]
  },
  {
   "cell_type": "code",
   "execution_count": 2,
   "id": "checked-cowboy",
   "metadata": {},
   "outputs": [],
   "source": [
    "LABEL_DRUG_PROTEIN = 'DRUG-PROTEIN'\n",
    "LABEL_CHEMICAL = 'CHEMICAL'\n",
    "LABEL_DISEASE = 'DISEASE'\n",
    "LABEL_SPECIES = 'SPECIES'\n",
    "\n",
    "LABEL_LIST = [LABEL_DRUG_PROTEIN,\n",
    "              LABEL_CHEMICAL,\n",
    "              LABEL_DISEASE,    \n",
    "              LABEL_SPECIES]\n",
    "\n",
    "LABEL_TO_DIR = {\n",
    "    LABEL_DRUG_PROTEIN: ['BC2GM', 'JNLPBA'],\n",
    "    LABEL_CHEMICAL: ['BC4CHEMD','BC5CDR-chem'],\n",
    "    LABEL_DISEASE: ['BC5CDR-disease', 'NCBI-disease'],    \n",
    "    LABEL_SPECIES: ['linnaeus', 's800']\n",
    "}\n",
    "\n",
    "DATA_ORIGIN_PATH = os.path.join(\"data\",\"origin\")\n",
    "DATA_PREPARED_PATH = os.path.join(\"data\", \"prepared\")\n",
    "DATA_AGGREGATE_PATH = os.path.join(DATA_PREPARED_PATH, \"aggregate\")\n",
    "MODEL_PATH = \"model\"\n",
    "MODEL_TRAIN_PATH = os.path.join(MODEL_PATH, \"train\")\n",
    "MODEL_TRAIN_AGGRATE_PATH = os.path.join(MODEL_PATH, \"train-aggregate\")\n",
    "MODEL_ACTUAL_PATH = os.path.join(MODEL_PATH, \"actual\")\n",
    "\n",
    "TSV_EXTENSION = \".tsv\"\n",
    "JSON_EXTENSION = \".json\"\n",
    "SPACY_EXTENSION = \".spacy\"\n",
    "\n",
    "TRAIN_DEV_DATASET = \"train_dev\"\n",
    "TRAIN_DATASET = \"train\"\n",
    "\n",
    "VALIDATE_DATASET = \"devel\"\n",
    "TEST_DATASET = \"test\"\n",
    "\n",
    "DATASET_TYPE = [TRAIN_DATASET, VALIDATE_DATASET, TEST_DATASET]"
   ]
  },
  {
   "cell_type": "markdown",
   "id": "dietary-merchandise",
   "metadata": {},
   "source": [
    "#### Carrega os datasets convertidos para formato json conhecido do spacy. A versão 3 utiliza a classe *Example* e será tratada no treinamento"
   ]
  },
  {
   "cell_type": "code",
   "execution_count": 3,
   "id": "developed-least",
   "metadata": {},
   "outputs": [],
   "source": [
    "def load_data(label, dataset_type, group_by_label=True):\n",
    "    data = []\n",
    "    if group_by_label:\n",
    "        file = os.path.join(DATA_PREPARED_PATH, label, label + \"-\" + dataset_type + JSON_EXTENSION)\n",
    "    else:\n",
    "        file = os.path.join(DATA_AGGREGATE_PATH, dataset_type + JSON_EXTENSION)\n",
    "        \n",
    "    with open (file, \"r\", encoding=\"utf-8\") as f:\n",
    "        json_data = json.load(f)\n",
    "    for an in json_data:\n",
    "        texto = an[\"texto\"]\n",
    "        entities = []\n",
    "        for entidade in an[\"entities\"]:\n",
    "            info = (entidade[\"start\"], entidade[\"end\"], entidade[\"label\"])\n",
    "            entities.append(info)\n",
    "        data.append((texto,{\"entities\":entities}))\n",
    "    return data\n"
   ]
  },
  {
   "cell_type": "markdown",
   "id": "absolute-image",
   "metadata": {},
   "source": [
    "#### Converte os dados em formato válido até a versão 2.0 do Spacy para a classe Example, que passou a ser utilizada na versão 3"
   ]
  },
  {
   "cell_type": "code",
   "execution_count": 4,
   "id": "statewide-print",
   "metadata": {
    "tags": []
   },
   "outputs": [],
   "source": [
    "def format_data_for_evaluation(data, nlp_model): \n",
    "    data_formated = []\n",
    "    for text, annotations in data:\n",
    "        doc = nlp_model.make_doc(text)\n",
    "        example = Example.from_dict(doc, annotations)\n",
    "        data_formated.append(example)\n",
    "    return data_formated\n"
   ]
  },
  {
   "cell_type": "markdown",
   "id": "skilled-arabic",
   "metadata": {},
   "source": [
    "### Treinamento de um Label utilizando sua respectiva base para treinamento"
   ]
  },
  {
   "cell_type": "code",
   "execution_count": 5,
   "id": "destroyed-cradle",
   "metadata": {},
   "outputs": [],
   "source": [
    "def train_spacy_one_label(train_data, validate_data, iterations, label, description):\n",
    "    ner_name = label + \"_ner\"    \n",
    "    nlp_train = spacy.blank(\"en\")\n",
    "    #nlp_train = spacy.load(\"en_core_web_md\")\n",
    "    \n",
    "    ner = nlp_train.add_pipe(\"ner\",name=ner_name)\n",
    "    ner.add_label(label)    \n",
    "    \n",
    "    best_ents_p = -1\n",
    "    best_ents_r = -1\n",
    "    best_ents_f = -1\n",
    "    \n",
    "    with open(os.path.join(MODEL_TRAIN_PATH, \"log_treino.txt\" ) , \"a\") as log_file:\n",
    "        log_file.write(\"\\n\")\n",
    "        log_file.write(f\"=======> [LABELS ISOLADOS] Inicio Treino {time.strftime('%d/%m/%Y %H:%M:%S', time.gmtime(time.time()))} ===================================== \\n\")\n",
    "        log_file.write(f\"Detalhes: {description} \\n\\n\")\n",
    "        \n",
    "        other_pipes = [pipe for pipe in nlp_train.pipe_names if pipe != ner_name]\n",
    "        with nlp_train.disable_pipes(*other_pipes):\n",
    "            optimizer = nlp_train.begin_training()\n",
    "            #optimizer = nlp_train.create_optimizer()\n",
    "            print(f\"{'#IT':5} | {'Loss':8} | {'Prec':6} | {'Recall':6} | {'F_Scr':6} | {'Save Mod':8} | {'Duração':10} \")\n",
    "            log_file.write(f\"{'#IT':5} | {'Loss':8} | {'Prec':6} | {'Recall':6} | {'F_Scr':6} | {'Save Mod':8} | {'Duracao':10} \\n\")\n",
    "            \n",
    "            for itn in range(iterations):\n",
    "                start_time = time.time()\n",
    "                linha = f\"{str(itn):5} | \"\n",
    "                random.shuffle(train_data)\n",
    "                losses = {}\n",
    "                batches = minibatch(train_data, size=512)\n",
    "\n",
    "                for batch in batches:\n",
    "                    for text, annotations in batch:\n",
    "                        doc = nlp_train.make_doc(text)\n",
    "                        example = Example.from_dict(doc, annotations)\n",
    "                        nlp_train.update( [example],\n",
    "                            drop=0.2,  \n",
    "                            sgd=optimizer,\n",
    "                            losses=losses)\n",
    "\n",
    "                validate_metrics = nlp_train.evaluate(format_data_for_evaluation(validate_data, nlp_train))\n",
    "                linha += f\"{losses[list(losses)[0]]:08.2f} | {validate_metrics['ents_p']*100:06.2f} | {validate_metrics['ents_r']*100:06.2f} | {validate_metrics['ents_f']*100:06.2f} | \"\n",
    "\n",
    "                if (validate_metrics[\"ents_f\"] > best_ents_f):\n",
    "                    best_ents_r = validate_metrics[\"ents_r\"]\n",
    "                    best_ents_f = validate_metrics[\"ents_f\"]\n",
    "                    best_ents_p = validate_metrics[\"ents_p\"]\n",
    "                    linha += f\"{'S':8} | \"\n",
    "                    \n",
    "                    path = os.path.join(MODEL_TRAIN_PATH, label)\n",
    "                    Path(path).mkdir(parents=True, exist_ok=True)\n",
    "                    nlp_train.to_disk(path)                \n",
    "                else:\n",
    "                    linha += f\"{'N':8} | \"\n",
    "\n",
    "                elapsed = time.strftime(\"%H:%M:%S\", time.gmtime(time.time() - start_time))\n",
    "                linha += elapsed\n",
    "\n",
    "                print(linha)\n",
    "                log_file.write(linha + \"\\n\")\n",
    "                log_file.flush()\n",
    "    return nlp_train"
   ]
  },
  {
   "cell_type": "markdown",
   "id": "wrong-construction",
   "metadata": {},
   "source": [
    "### Treinamento para Labels e Bases Separadas  - Validação após cada epoch (10 no total) e medição final com a base de teste do melhor modelo."
   ]
  },
  {
   "cell_type": "code",
   "execution_count": 38,
   "id": "willing-advisory",
   "metadata": {},
   "outputs": [
    {
     "name": "stdout",
     "output_type": "stream",
     "text": [
      "#IT   | Loss     | Prec   | Recall | F_Scr  | Save Mod | Duração    \n",
      "0     | 04188.94 | 076.83 | 070.87 | 073.73 | S          | 00:05:30\n",
      "1     | 02844.82 | 081.21 | 062.74 | 070.79 | N        | 00:05:30\n",
      "2     | 02529.17 | 087.76 | 073.33 | 079.90 | S          | 00:05:30\n",
      "3     | 02122.87 | 082.96 | 081.83 | 082.39 | S          | 00:05:33\n",
      "4     | 01942.68 | 087.16 | 081.19 | 084.07 | S          | 00:05:33\n",
      "5     | 01837.41 | 088.96 | 077.99 | 083.11 | N        | 00:05:34\n",
      "6     | 01751.14 | 080.30 | 073.33 | 076.66 | N        | 00:05:34\n",
      "7     | 01720.78 | 080.21 | 068.86 | 074.10 | N        | 00:05:34\n",
      "8     | 01672.09 | 077.00 | 065.11 | 070.56 | N        | 00:05:35\n",
      "9     | 01602.27 | 070.52 | 065.75 | 068.05 | N        | 00:05:42\n"
     ]
    }
   ],
   "source": [
    "train_data =  load_data(LABEL_SPECIES, TRAIN_DATASET, group_by_label=True)\n",
    "validate_data = load_data(LABEL_SPECIES, VALIDATE_DATASET, group_by_label=True)\n",
    "nlp = train_spacy_one_label(train_data,validate_data, 10, LABEL_SPECIES, \"Treino Isolado de Species Sem WordVec\")"
   ]
  },
  {
   "cell_type": "code",
   "execution_count": 39,
   "id": "surrounded-communications",
   "metadata": {
    "tags": []
   },
   "outputs": [
    {
     "name": "stdout",
     "output_type": "stream",
     "text": [
      "{'token_acc': 1.0, 'token_p': 1.0, 'token_r': 1.0, 'token_f': 1.0, 'ents_p': 0.7764876632801161, 'ents_r': 0.7295454545454545, 'ents_f': 0.7522849777361142, 'ents_per_type': {'SPECIES': {'p': 0.7764876632801161, 'r': 0.7295454545454545, 'f': 0.7522849777361142}}, 'speed': 34624.15112357422}\n"
     ]
    }
   ],
   "source": [
    "nlp = spacy.load(os.path.join(MODEL_TRAIN_PATH, LABEL_SPECIES))\n",
    "test_data = load_data(LABEL_SPECIES, TEST_DATASET, group_by_label=True)\n",
    "test_data_spacy=format_data_for_evaluation(test_data, nlp)\n",
    "test_metrics = nlp.evaluate(test_data_spacy)\n",
    "print(test_metrics)"
   ]
  },
  {
   "cell_type": "code",
   "execution_count": null,
   "id": "union-sitting",
   "metadata": {},
   "outputs": [],
   "source": []
  },
  {
   "cell_type": "code",
   "execution_count": 42,
   "id": "automated-netherlands",
   "metadata": {},
   "outputs": [
    {
     "name": "stdout",
     "output_type": "stream",
     "text": [
      "#IT   | Loss     | Prec   | Recall | F_Scr  | Save Mod | Duração    \n",
      "0     | 43113.34 | 070.26 | 063.12 | 066.50 | S        | 00:11:50\n",
      "1     | 36124.18 | 075.39 | 070.30 | 072.76 | S        | 00:11:48\n",
      "2     | 34349.47 | 071.76 | 070.02 | 070.88 | N        | 00:11:46\n",
      "3     | 33830.05 | 075.77 | 068.31 | 071.85 | N        | 00:11:45\n",
      "4     | 33232.88 | 075.05 | 073.14 | 074.08 | S        | 00:11:44\n",
      "5     | 32905.07 | 074.65 | 069.36 | 071.91 | N        | 00:11:46\n",
      "6     | 33033.97 | 072.32 | 075.34 | 073.80 | N        | 00:11:44\n",
      "7     | 32860.86 | 079.15 | 061.21 | 069.03 | N        | 00:11:44\n",
      "8     | 32480.39 | 071.40 | 074.10 | 072.73 | N        | 00:11:45\n",
      "9     | 32548.00 | 069.61 | 076.86 | 073.05 | N        | 00:11:46\n"
     ]
    }
   ],
   "source": [
    "train_data =  load_data(LABEL_DRUG_PROTEIN, TRAIN_DATASET, group_by_label=True)\n",
    "validate_data = load_data(LABEL_DRUG_PROTEIN, VALIDATE_DATASET, group_by_label=True)\n",
    "nlp = train_spacy_one_label(train_data,validate_data, 10, LABEL_DRUG_PROTEIN, \"Treino Isolado de DRUG PROTEIN Sem WordVec\")"
   ]
  },
  {
   "cell_type": "code",
   "execution_count": 43,
   "id": "rough-hazard",
   "metadata": {},
   "outputs": [
    {
     "name": "stdout",
     "output_type": "stream",
     "text": [
      "{'token_acc': 1.0, 'token_p': 1.0, 'token_r': 1.0, 'token_f': 1.0, 'ents_p': 0.6799419049075065, 'ents_r': 0.7078624860735317, 'ents_f': 0.6936213349968808, 'ents_per_type': {'DRUG-PROTEIN': {'p': 0.6799419049075065, 'r': 0.7078624860735317, 'f': 0.6936213349968808}}, 'speed': 34590.965523060884}\n"
     ]
    }
   ],
   "source": [
    "nlp = spacy.load(os.path.join(MODEL_TRAIN_PATH, LABEL_DRUG_PROTEIN))\n",
    "test_data = load_data(LABEL_DRUG_PROTEIN, TEST_DATASET, group_by_label=True)\n",
    "test_data_spacy=format_data_for_evaluation(test_data, nlp)\n",
    "test_metrics = nlp.evaluate(test_data_spacy)\n",
    "print(test_metrics)"
   ]
  },
  {
   "cell_type": "code",
   "execution_count": null,
   "id": "realistic-sacrifice",
   "metadata": {},
   "outputs": [],
   "source": []
  },
  {
   "cell_type": "code",
   "execution_count": 45,
   "id": "endangered-register",
   "metadata": {},
   "outputs": [
    {
     "name": "stdout",
     "output_type": "stream",
     "text": [
      "#IT   | Loss     | Prec   | Recall | F_Scr  | Save Mod | Duração    \n",
      "0     | 30452.82 | 081.58 | 070.28 | 075.51 | S        | 00:14:14\n",
      "1     | 20290.45 | 083.21 | 071.02 | 076.63 | S        | 00:14:20\n",
      "2     | 17549.54 | 082.34 | 070.25 | 075.81 | N        | 00:14:18\n",
      "3     | 16225.91 | 078.94 | 076.82 | 077.86 | S        | 00:14:21\n",
      "4     | 15679.11 | 081.17 | 078.86 | 080.00 | S        | 00:14:23\n",
      "5     | 14946.28 | 082.43 | 075.89 | 079.03 | N        | 00:14:22\n",
      "6     | 14709.57 | 077.19 | 080.89 | 078.99 | N        | 00:14:30\n",
      "7     | 14459.19 | 084.41 | 076.28 | 080.14 | S        | 00:14:25\n",
      "8     | 14340.50 | 085.50 | 073.83 | 079.24 | N        | 00:14:28\n",
      "9     | 13740.24 | 081.07 | 078.77 | 079.90 | N        | 00:14:25\n"
     ]
    }
   ],
   "source": [
    "train_data =  load_data(LABEL_CHEMICAL, TRAIN_DATASET, group_by_label=True)\n",
    "validate_data = load_data(LABEL_CHEMICAL, VALIDATE_DATASET, group_by_label=True)\n",
    "nlp = train_spacy_one_label(train_data,validate_data, 10, LABEL_CHEMICAL, \"Treino Isolado de Chemical Sem WordVec\")"
   ]
  },
  {
   "cell_type": "code",
   "execution_count": 47,
   "id": "least-encyclopedia",
   "metadata": {},
   "outputs": [
    {
     "name": "stdout",
     "output_type": "stream",
     "text": [
      "{'token_acc': 1.0, 'token_p': 1.0, 'token_r': 1.0, 'token_f': 1.0, 'ents_p': 0.8547992254010012, 'ents_r': 0.7612833946178126, 'ents_f': 0.8053356282271945, 'ents_per_type': {'CHEMICAL': {'p': 0.8547992254010012, 'r': 0.7612833946178126, 'f': 0.8053356282271945}}, 'speed': 34570.738044853344}\n"
     ]
    }
   ],
   "source": [
    "nlp = spacy.load(os.path.join(MODEL_TRAIN_PATH, LABEL_CHEMICAL))\n",
    "test_data = load_data(LABEL_CHEMICAL, TEST_DATASET, group_by_label=True)\n",
    "test_data_spacy=format_data_for_evaluation(test_data, nlp)\n",
    "test_metrics = nlp.evaluate(test_data_spacy)\n",
    "print(test_metrics)"
   ]
  },
  {
   "cell_type": "code",
   "execution_count": null,
   "id": "polyphonic-yugoslavia",
   "metadata": {},
   "outputs": [],
   "source": []
  },
  {
   "cell_type": "code",
   "execution_count": 48,
   "id": "registered-dating",
   "metadata": {},
   "outputs": [
    {
     "name": "stdout",
     "output_type": "stream",
     "text": [
      "#IT   | Loss     | Prec   | Recall | F_Scr  | Save Mod | Duração    \n",
      "0     | 09495.49 | 070.20 | 063.98 | 066.94 | S        | 00:04:04\n",
      "1     | 06466.31 | 077.18 | 067.26 | 071.88 | S        | 00:04:12\n",
      "2     | 05428.19 | 078.90 | 066.20 | 072.00 | S        | 00:04:03\n",
      "3     | 04840.86 | 081.92 | 066.18 | 073.22 | S        | 00:04:04\n",
      "4     | 04337.82 | 067.65 | 074.39 | 070.86 | N        | 00:04:02\n",
      "5     | 03950.55 | 076.51 | 073.14 | 074.79 | S        | 00:04:02\n",
      "6     | 03720.81 | 081.56 | 069.06 | 074.79 | S        | 00:04:01\n",
      "7     | 03622.13 | 080.62 | 072.14 | 076.15 | S        | 00:04:02\n",
      "8     | 03312.85 | 081.04 | 069.38 | 074.76 | N        | 00:04:02\n",
      "9     | 03222.92 | 078.87 | 071.57 | 075.04 | N        | 00:04:02\n"
     ]
    }
   ],
   "source": [
    "train_data =  load_data(LABEL_DISEASE, TRAIN_DATASET, group_by_label=True)\n",
    "validate_data = load_data(LABEL_DISEASE, VALIDATE_DATASET, group_by_label=True)\n",
    "nlp = train_spacy_one_label(train_data,validate_data, 10, LABEL_DISEASE, \"Treino Isolado de Disease Sem WordVec\")"
   ]
  },
  {
   "cell_type": "code",
   "execution_count": 50,
   "id": "prospective-carolina",
   "metadata": {},
   "outputs": [
    {
     "name": "stdout",
     "output_type": "stream",
     "text": [
      "{'token_acc': 1.0, 'token_p': 1.0, 'token_r': 1.0, 'token_f': 1.0, 'ents_p': 0.8004568106312292, 'ents_r': 0.7160104011887073, 'ents_f': 0.7558823529411764, 'ents_per_type': {'DISEASE': {'p': 0.8004568106312292, 'r': 0.7160104011887073, 'f': 0.7558823529411764}}, 'speed': 38052.47472579074}\n"
     ]
    }
   ],
   "source": [
    "nlp = spacy.load(os.path.join(MODEL_TRAIN_PATH, LABEL_DISEASE))\n",
    "test_data = load_data(LABEL_DISEASE, TEST_DATASET, group_by_label=True)\n",
    "test_data_spacy=format_data_for_evaluation(test_data, nlp)\n",
    "test_metrics = nlp.evaluate(test_data_spacy)\n",
    "print(test_metrics)"
   ]
  },
  {
   "cell_type": "markdown",
   "id": "stainless-representative",
   "metadata": {
    "tags": []
   },
   "source": [
    "### Treinamento Multiplos labels com uma camada de NER"
   ]
  },
  {
   "cell_type": "code",
   "execution_count": 9,
   "id": "realistic-factor",
   "metadata": {},
   "outputs": [],
   "source": [
    "def train_spacy_muliple_label(train_data, validate_data, iterations, lista_label, description):\n",
    "    nlp_train = spacy.blank(\"en\")\n",
    "    #nlp_train = spacy.load(\"en_core_web_md\")\n",
    "    \n",
    "    ner = nlp_train.add_pipe(\"ner\")\n",
    "    for label in lista_label:\n",
    "        ner.add_label(label)    \n",
    "    \n",
    "    best_ents_p = -1\n",
    "    best_ents_r = -1\n",
    "    best_ents_f = -1\n",
    "    \n",
    "    with open(os.path.join(MODEL_TRAIN_AGGRATE_PATH, \"log_treino.txt\" ) , \"a\") as log_file:\n",
    "        log_file.write(\"\\n\")\n",
    "        log_file.write(f\"=======> [LABELS AGREGADOS] Inicio Treino {time.strftime('%d/%m/%Y %H:%M:%S', time.gmtime(time.time()))} ===================================== \\n\")\n",
    "        log_file.write(f\"Detalhes: {description} \\n\\n\")\n",
    "        \n",
    "        other_pipes = [pipe for pipe in nlp_train.pipe_names if pipe != \"ner\"]\n",
    "        with nlp_train.disable_pipes(*other_pipes):\n",
    "            optimizer = nlp_train.begin_training()\n",
    "            #optimizer = nlp_train.create_optimizer()\n",
    "            print(f\"{'#IT':5} | {'Loss':8} | {'Label':12} | {'Prec':6} | {'Recall':6} | {'F_Scr':6} | {'Save Mod':8} | {'Duração':10} \")\n",
    "            log_file.write(f\"{'#IT':5} | {'Loss':8} | {'Prec':6} | {'Recall':6} | {'F_Scr':6} | {'Save Mod':8} | {'Duracao':10} \\n\")\n",
    "            \n",
    "            for itn in range(iterations):\n",
    "                start_time = time.time()\n",
    "                linha = f\"{str(itn):5} | \"\n",
    "                random.shuffle(train_data)\n",
    "                losses = {}\n",
    "                batches = minibatch(train_data, size=512)\n",
    "\n",
    "                for batch in batches:\n",
    "                    for text, annotations in batch:\n",
    "                        doc = nlp_train.make_doc(text)\n",
    "                        example = Example.from_dict(doc, annotations)\n",
    "                        nlp_train.update( [example],\n",
    "                            drop=0.2,  \n",
    "                            sgd=optimizer,\n",
    "                            losses=losses)\n",
    "\n",
    "                validate_metrics = nlp_train.evaluate(format_data_for_evaluation(validate_data, nlp_train))\n",
    "                linha += f\"{losses[list(losses)[0]]:08.2f} | {'Geral':12} | {validate_metrics['ents_p']*100:06.2f} | {validate_metrics['ents_r']*100:06.2f} | {validate_metrics['ents_f']*100:06.2f} | \"\n",
    "\n",
    "                if (validate_metrics[\"ents_f\"] > best_ents_f):\n",
    "                    best_ents_r = validate_metrics[\"ents_r\"]\n",
    "                    best_ents_f = validate_metrics[\"ents_f\"]\n",
    "                    best_ents_p = validate_metrics[\"ents_p\"]\n",
    "                    linha += f\"{'S':8} | \\n\"\n",
    "                    \n",
    "                    path = os.path.join(MODEL_TRAIN_PATH, label)\n",
    "                    Path(path).mkdir(parents=True, exist_ok=True)\n",
    "                    nlp_train.to_disk(path)                \n",
    "                else:\n",
    "                    linha += f\"{'N':8} | \\n\"\n",
    "                \n",
    "                for label in lista_label:\n",
    "                    linha += f\"{'':8} | {label:12} | {validate_metrics['ents_per_type'][label]['p']*100:06.2f} | {validate_metrics['ents_per_type'][label]['r']*100:06.2f} | {validate_metrics['ents_per_type'][label]['f']*100:06.2f} | {'':8} | \\n\"\n",
    "                \n",
    "                elapsed = time.strftime(\"%H:%M:%S\", time.gmtime(time.time() - start_time))\n",
    "                linha += elapsed\n",
    "\n",
    "                print(linha)\n",
    "                log_file.write(linha + \"\\n\")\n",
    "                log_file.flush()\n",
    "    return nlp_train"
   ]
  },
  {
   "cell_type": "code",
   "execution_count": null,
   "id": "labeled-conclusion",
   "metadata": {},
   "outputs": [
    {
     "name": "stdout",
     "output_type": "stream",
     "text": [
      "#IT   | Loss     | Label        | Prec   | Recall | F_Scr  | Save Mod | Duração    \n"
     ]
    }
   ],
   "source": [
    "train_data =  load_data(LABEL_DISEASE, TRAIN_DATASET, group_by_label=False)\n",
    "validate_data = load_data(LABEL_DISEASE, VALIDATE_DATASET, group_by_label=False)\n",
    "nlp = train_spacy_muliple_label(train_data,validate_data, 10, LABEL_LIST, \"Treino Agregado, Multiplos Labels com uma camada de NER\")"
   ]
  },
  {
   "cell_type": "code",
   "execution_count": null,
   "id": "joined-criminal",
   "metadata": {},
   "outputs": [],
   "source": []
  },
  {
   "cell_type": "code",
   "execution_count": null,
   "id": "enormous-farmer",
   "metadata": {},
   "outputs": [],
   "source": []
  }
 ],
 "metadata": {
  "kernelspec": {
   "display_name": "Python 3",
   "language": "python",
   "name": "python3"
  },
  "language_info": {
   "codemirror_mode": {
    "name": "ipython",
    "version": 3
   },
   "file_extension": ".py",
   "mimetype": "text/x-python",
   "name": "python",
   "nbconvert_exporter": "python",
   "pygments_lexer": "ipython3",
   "version": "3.8.8"
  }
 },
 "nbformat": 4,
 "nbformat_minor": 5
}
