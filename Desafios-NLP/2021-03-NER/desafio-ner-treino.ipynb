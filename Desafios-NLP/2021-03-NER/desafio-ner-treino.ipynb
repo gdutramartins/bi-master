{
 "cells": [
  {
   "cell_type": "markdown",
   "id": "433affda",
   "metadata": {},
   "source": [
    "# Desafio NER - Treino Spacy \n",
    "* Treinamento com Entidades Separadas, um modelo para cada label - Bons resultados quando executados separados, bons resultados se testados com datasets separados, mas resultados ruins quando utilizado um dataset com todos os labels.\n",
    "* Treinamento com Todas as Entidades - Em andamento"
   ]
  },
  {
   "cell_type": "code",
   "execution_count": 2,
   "id": "ab30b70a",
   "metadata": {},
   "outputs": [],
   "source": [
    "import os\n",
    "from pathlib import Path\n",
    "import re\n",
    "import string\n",
    "import json\n",
    "import random\n",
    "import sys\n",
    "import subprocess\n",
    "import time\n",
    "import datetime\n",
    "import shutil\n",
    "\n",
    "from tqdm import tqdm\n",
    "import spacy\n",
    "from spacy.tokens import DocBin\n",
    "from spacy.util import minibatch, compounding\n",
    "from spacy.training import Example\n",
    "\n",
    "KMP_DUPLICATE_LIB_OK=True"
   ]
  },
  {
   "cell_type": "code",
   "execution_count": 3,
   "id": "2e782ca4",
   "metadata": {},
   "outputs": [],
   "source": [
    "LABEL_DRUG_PROTEIN = 'DRUG-PROTEIN'\n",
    "LABEL_CHEMICAL = 'CHEMICAL'\n",
    "LABEL_DISEASE = 'DISEASE'\n",
    "LABEL_SPECIES = 'SPECIES'\n",
    "\n",
    "LABEL_LIST = [LABEL_DRUG_PROTEIN,\n",
    "              LABEL_CHEMICAL,\n",
    "              LABEL_DISEASE,    \n",
    "              LABEL_SPECIES]\n",
    "\n",
    "LABEL_TO_DIR = {\n",
    "    LABEL_DRUG_PROTEIN: ['BC2GM', 'JNLPBA'],\n",
    "    LABEL_CHEMICAL: ['BC4CHEMD','BC5CDR-chem'],\n",
    "    LABEL_DISEASE: ['BC5CDR-disease', 'NCBI-disease'],    \n",
    "    LABEL_SPECIES: ['linnaeus', 's800']\n",
    "}\n",
    "\n",
    "DATA_ORIGIN_PATH = os.path.join(\"data\",\"origin\")\n",
    "DATA_PREPARED_PATH = os.path.join(\"data\", \"prepared\")\n",
    "DATA_AGGREGATE_PATH = os.path.join(DATA_PREPARED_PATH, \"aggregate\")\n",
    "\n",
    "WORD_VECTOR_PATH = \"word_vec\"\n",
    "WORD_VECTOR_MODEL_NAME = os.path.join(WORD_VECTOR_PATH, \"biomed.model\")\n",
    "WORD_VECTOR_GENSIM = os.path.join(WORD_VECTOR_PATH, \"biomed_word2vec.txt\")\n",
    "WORD_VECTOR_GLOVE = os.path.join(WORD_VECTOR_PATH, \"glove.840B.300d.txt\")\n",
    "WORD_VECTOR_EXPORT_TENSORBOARD_PATH = os.path.join(WORD_VECTOR_PATH, \"tensorboard\", \"biomed_ner\")\n",
    "\n",
    "MODEL_PATH = \"model\"\n",
    "MODEL_TRAIN_PATH = os.path.join(MODEL_PATH, \"train\")\n",
    "MODEL_ACTUAL_PATH = os.path.join(MODEL_PATH, \"actual\")\n",
    "\n",
    "TSV_EXTENSION = \".tsv\"\n",
    "JSON_EXTENSION = \".json\"\n",
    "SPACY_EXTENSION = \".spacy\"\n",
    "\n",
    "TRAIN_DEV_DATASET = \"train_dev\"\n",
    "TRAIN_DATASET = \"train\"\n",
    "VALIDATE_DATASET = \"devel\"\n",
    "TEST_DATASET = \"test\"\n",
    "\n",
    "DATASET_TYPE = [TRAIN_DATASET, VALIDATE_DATASET, TEST_DATASET]"
   ]
  },
  {
   "cell_type": "markdown",
   "id": "6a157c50",
   "metadata": {},
   "source": [
    "#### Carrega os datasets convertidos para formato json conhecido do spacy. A versão 3 utiliza a classe *Example* e será tratada no treinamento"
   ]
  },
  {
   "cell_type": "code",
   "execution_count": 4,
   "id": "0a6b3ced",
   "metadata": {},
   "outputs": [],
   "source": [
    "def load_data(label, dataset_type, group_by_label=True):\n",
    "    data = []\n",
    "    if group_by_label:\n",
    "        file = os.path.join(DATA_PREPARED_PATH, label, label + \"-\" + dataset_type + JSON_EXTENSION)\n",
    "    else:\n",
    "        file = os.path.join(DATA_AGGREGATE_PATH, dataset_type + JSON_EXTENSION)\n",
    "        \n",
    "    with open (file, \"r\", encoding=\"utf-8\") as f:\n",
    "        json_data = json.load(f)\n",
    "    for an in json_data:\n",
    "        texto = an[\"texto\"]\n",
    "        entities = []\n",
    "        for entidade in an[\"entities\"]:\n",
    "            info = (entidade[\"start\"], entidade[\"end\"], entidade[\"label\"])\n",
    "            entities.append(info)\n",
    "        data.append((texto,{\"entities\":entities}))\n",
    "    return data\n"
   ]
  },
  {
   "cell_type": "markdown",
   "id": "0331298c",
   "metadata": {},
   "source": [
    "#### Converte os dados em formato válido até a versão 2.0 do Spacy para a classe Example, que passou a ser utilizada na versão 3"
   ]
  },
  {
   "cell_type": "code",
   "execution_count": 5,
   "id": "29a56e66",
   "metadata": {
    "tags": []
   },
   "outputs": [],
   "source": [
    "def format_data_for_evaluation(data, nlp_model): \n",
    "    data_formated = []\n",
    "    for text, annotations in data:\n",
    "        doc = nlp_model.make_doc(text)\n",
    "        example = Example.from_dict(doc, annotations)\n",
    "        data_formated.append(example)\n",
    "    return data_formated\n"
   ]
  },
  {
   "cell_type": "markdown",
   "id": "33917b15",
   "metadata": {},
   "source": [
    "### Treinamento de um Label utilizando sua respectiva base para treinamento"
   ]
  },
  {
   "cell_type": "code",
   "execution_count": 6,
   "id": "b64231f7",
   "metadata": {},
   "outputs": [],
   "source": [
    "def create_model_with_word_vector(label, word_vec):\n",
    "    path = os.path.join(MODEL_TRAIN_PATH, label)\n",
    "    if (os.path.exists):\n",
    "        shutil.rmtree(path, ignore_errors=True)\n",
    "    \n",
    "    Path(path).mkdir(parents=True, exist_ok=True)\n",
    "    \n",
    "    subprocess.run([sys.executable,\n",
    "                    \"-m\",\n",
    "                    \"spacy\",\n",
    "                    \"init\",\n",
    "                    \"vectors\",\n",
    "                    \"en\",\n",
    "                    word_vec,\n",
    "                    path,\n",
    "                    ])\n",
    "    \n",
    "    return spacy.load(path)"
   ]
  },
  {
   "cell_type": "code",
   "execution_count": 9,
   "id": "eaef5ea8",
   "metadata": {},
   "outputs": [],
   "source": [
    "def train_spacy_one_label(train_data, validate_data, iterations, label, word_embedding=None, description=\"\"):\n",
    "    ner_name = label + \"_ner\"    \n",
    "    if word_embedding == None:\n",
    "        nlp_train = spacy.blank(\"en\")\n",
    "    else:\n",
    "        nlp_train = create_model_with_word_vector(label, word_embedding)\n",
    "    \n",
    "    ner = nlp_train.add_pipe(\"ner\",name=ner_name)\n",
    "    ner.add_label(label)    \n",
    "    \n",
    "    best_ents_p = -1\n",
    "    best_ents_r = -1\n",
    "    best_ents_f = -1\n",
    "    \n",
    "    with open(os.path.join(MODEL_TRAIN_PATH, \"log_treino.txt\" ) , \"a\") as log_file:\n",
    "        log_file.write(\"\\n\")\n",
    "        log_file.write(f\"=======> [LABELS ISOLADOS] Inicio Treino {time.strftime('%d/%m/%Y %H:%M:%S', time.gmtime(time.time()))} ===================================== \\n\")\n",
    "        log_file.write(f\"Detalhes: {description} \\n\\n\")\n",
    "        \n",
    "        other_pipes = [pipe for pipe in nlp_train.pipe_names if pipe != ner_name]\n",
    "        with nlp_train.disable_pipes(*other_pipes):\n",
    "            optimizer = nlp_train.begin_training()\n",
    "            #optimizer = nlp_train.create_optimizer()\n",
    "            print(f\"{'#IT':5} | {'Loss':8} | {'Prec':6} | {'Recall':6} | {'F_Scr':6} | {'Save Mod':8} | {'Duração':10} \")\n",
    "            log_file.write(f\"{'#IT':5} | {'Loss':8} | {'Prec':6} | {'Recall':6} | {'F_Scr':6} | {'Save Mod':8} | {'Duracao':10} \\n\")\n",
    "            \n",
    "            for itn in range(iterations):\n",
    "                start_time = time.time()\n",
    "                linha = f\"{str(itn):5} | \"\n",
    "                random.shuffle(train_data)\n",
    "                losses = {}\n",
    "                batches = minibatch(train_data, size=512)\n",
    "\n",
    "                for batch in batches:\n",
    "                    for text, annotations in batch:\n",
    "                        doc = nlp_train.make_doc(text)\n",
    "                        example = Example.from_dict(doc, annotations)\n",
    "                        nlp_train.update( [example],\n",
    "                            drop=0.2,  \n",
    "                            sgd=optimizer,\n",
    "                            losses=losses)\n",
    "\n",
    "                validate_metrics = nlp_train.evaluate(format_data_for_evaluation(validate_data, nlp_train))\n",
    "                linha += f\"{losses[list(losses)[0]]:08.2f} | {validate_metrics['ents_p']*100:06.2f} | {validate_metrics['ents_r']*100:06.2f} | {validate_metrics['ents_f']*100:06.2f} | \"\n",
    "\n",
    "                if (validate_metrics[\"ents_f\"] > best_ents_f):\n",
    "                    best_ents_r = validate_metrics[\"ents_r\"]\n",
    "                    best_ents_f = validate_metrics[\"ents_f\"]\n",
    "                    best_ents_p = validate_metrics[\"ents_p\"]\n",
    "                    linha += f\"{'S':8} | \"\n",
    "                    \n",
    "                    path = os.path.join(MODEL_TRAIN_PATH, label)\n",
    "                    Path(path).mkdir(parents=True, exist_ok=True)\n",
    "                    nlp_train.to_disk(path)                \n",
    "                else:\n",
    "                    linha += f\"{'N':8} | \"\n",
    "\n",
    "                elapsed = time.strftime(\"%H:%M:%S\", time.gmtime(time.time() - start_time))\n",
    "                linha += elapsed\n",
    "            \n",
    "                linha.replace(\".\", \",\")\n",
    "                print(linha)\n",
    "                log_file.write(linha + \"\\n\")\n",
    "                log_file.flush()\n",
    "    return nlp_train"
   ]
  },
  {
   "cell_type": "code",
   "execution_count": null,
   "id": "547e22d7",
   "metadata": {},
   "outputs": [],
   "source": [
    "# test_data não formatado para spacy\n",
    "def executa_teste_modelo(model_path, label, test_data):\n",
    "    nlp_test = spacy.load(os.path.join(model_path, label))\n",
    "    test_data = load_data(label, TEST_DATASET, group_by_label=True)\n",
    "    test_data_spacy=format_data_for_evaluation(test_data, nlp_test)\n",
    "    test_metrics = nlp_test.evaluate(test_data_spacy)\n",
    "    with open(os.path.join(MODEL_TRAIN_PATH, \"log_treino.txt\" ) , \"a\") as log_file:\n",
    "        linha = f\"{'Val.':5} | \"\n",
    "        linha += f\"{'':8} | {test_metrics['ents_p']*100:06.2f} | {test_metrics['ents_r']*100:06.2f} | {test_metrics['ents_f']*100:06.2f} | {'':8} | \"\n",
    "        linha.replace(\".\", \",\")\n",
    "        log_file.write(linha)\n",
    "        print(linha)"
   ]
  },
  {
   "cell_type": "markdown",
   "id": "077ed224",
   "metadata": {},
   "source": [
    "### Treinamento para Labels e Bases Separadas  - Validação após cada epoch (10 no total) e medição final com a base de teste do melhor modelo."
   ]
  },
  {
   "cell_type": "code",
   "execution_count": 10,
   "id": "13dd2f5c",
   "metadata": {},
   "outputs": [
    {
     "name": "stdout",
     "output_type": "stream",
     "text": [
      "#IT   | Loss     | Prec   | Recall | F_Scr  | Save Mod | Duração    \n",
      "0     | 04194.89 | 090.64 | 068.13 | 077.79 | S        | 00:06:09\n",
      "1     | 02881.98 | 069.26 | 065.84 | 067.51 | N        | 00:06:10\n",
      "2     | 02411.55 | 087.22 | 074.16 | 080.16 | S        | 00:06:16\n",
      "3     | 02064.36 | 080.93 | 072.88 | 076.69 | N        | 00:06:10\n",
      "4     | 01943.09 | 086.64 | 072.24 | 078.78 | N        | 00:06:07\n",
      "5     | 01731.40 | 082.46 | 071.69 | 076.70 | N        | 00:06:09\n",
      "6     | 01784.68 | 076.08 | 072.33 | 074.16 | N        | 00:06:12\n",
      "7     | 01691.52 | 084.88 | 073.33 | 078.69 | N        | 00:06:10\n",
      "8     | 01609.53 | 086.99 | 072.69 | 079.20 | N        | 00:06:08\n",
      "9     | 01611.48 | 087.64 | 051.14 | 064.59 | N        | 00:06:14\n"
     ]
    }
   ],
   "source": [
    "train_data =  load_data(LABEL_SPECIES, TRAIN_DATASET, group_by_label=True)\n",
    "validate_data = load_data(LABEL_SPECIES, VALIDATE_DATASET, group_by_label=True)\n",
    "nlp = train_spacy_one_label(train_data,validate_data, 10, LABEL_SPECIES, word_embedding=WORD_VECTOR_GLOVE ,description=\"Treino Isolado de Species com WordVec Glove 840B.300d\")"
   ]
  },
  {
   "cell_type": "code",
   "execution_count": 11,
   "id": "9ba86386",
   "metadata": {
    "tags": []
   },
   "outputs": [
    {
     "name": "stdout",
     "output_type": "stream",
     "text": [
      "{'token_acc': 1.0, 'token_p': 1.0, 'token_r': 1.0, 'token_f': 1.0, 'ents_p': 0.8052434456928839, 'ents_r': 0.6840909090909091, 'ents_f': 0.7397394937331039, 'ents_per_type': {'SPECIES': {'p': 0.8052434456928839, 'r': 0.6840909090909091, 'f': 0.7397394937331039}}, 'speed': 41456.909509558565}\n"
     ]
    }
   ],
   "source": [
    "nlp = spacy.load(os.path.join(MODEL_TRAIN_PATH, LABEL_SPECIES))\n",
    "test_data = load_data(LABEL_SPECIES, TEST_DATASET, group_by_label=True)\n",
    "test_data_spacy=format_data_for_evaluation(test_data, nlp)\n",
    "test_metrics = nlp.evaluate(test_data_spacy)\n",
    "with open(os.path.join(MODEL_TRAIN_PATH, \"log_treino.txt\" ) , \"a\") as log_file:\n",
    "    log_file.write(\"\\n\")\n",
    "\n",
    "\n",
    "print(test_metrics)"
   ]
  },
  {
   "cell_type": "code",
   "execution_count": null,
   "id": "60ad804a",
   "metadata": {},
   "outputs": [],
   "source": []
  },
  {
   "cell_type": "code",
   "execution_count": 12,
   "id": "9d226f50",
   "metadata": {},
   "outputs": [
    {
     "name": "stdout",
     "output_type": "stream",
     "text": [
      "#IT   | Loss     | Prec   | Recall | F_Scr  | Save Mod | Duração    \n",
      "0     | 42964.92 | 077.45 | 065.27 | 070.84 | S        | 00:12:32\n",
      "1     | 36260.78 | 071.13 | 074.26 | 072.66 | S        | 00:12:33\n",
      "2     | 34466.13 | 075.71 | 071.02 | 073.29 | S        | 00:12:31\n",
      "3     | 34089.25 | 075.65 | 063.67 | 069.15 | N        | 00:12:22\n",
      "4     | 33634.95 | 076.77 | 068.06 | 072.15 | N        | 00:12:24\n",
      "5     | 33369.66 | 071.94 | 071.68 | 071.81 | N        | 00:12:31\n",
      "6     | 32956.11 | 075.50 | 071.97 | 073.70 | S        | 00:12:32\n",
      "7     | 32605.39 | 075.28 | 069.89 | 072.48 | N        | 00:12:31\n",
      "8     | 32440.36 | 076.64 | 070.37 | 073.37 | N        | 00:12:28\n",
      "9     | 32386.97 | 076.41 | 070.52 | 073.35 | N        | 00:12:25\n"
     ]
    }
   ],
   "source": [
    "train_data =  load_data(LABEL_DRUG_PROTEIN, TRAIN_DATASET, group_by_label=True)\n",
    "validate_data = load_data(LABEL_DRUG_PROTEIN, VALIDATE_DATASET, group_by_label=True)\n",
    "nlp = train_spacy_one_label(train_data,validate_data, 10, LABEL_DRUG_PROTEIN, word_embedding=WORD_VECTOR_GLOVE ,description=\"Treino Isolado de DRUG PROTEIN com WordVec Glove 840B.300d\")"
   ]
  },
  {
   "cell_type": "code",
   "execution_count": 13,
   "id": "3ce90b71",
   "metadata": {},
   "outputs": [
    {
     "name": "stdout",
     "output_type": "stream",
     "text": [
      "{'token_acc': 1.0, 'token_p': 1.0, 'token_r': 1.0, 'token_f': 1.0, 'ents_p': 0.6930966469428008, 'ents_r': 0.6991087060321503, 'ents_f': 0.6960896953369518, 'ents_per_type': {'DRUG-PROTEIN': {'p': 0.6930966469428008, 'r': 0.6991087060321503, 'f': 0.6960896953369518}}, 'speed': 40232.105882322045}\n"
     ]
    }
   ],
   "source": [
    "nlp = spacy.load(os.path.join(MODEL_TRAIN_PATH, LABEL_DRUG_PROTEIN))\n",
    "test_data = load_data(LABEL_DRUG_PROTEIN, TEST_DATASET, group_by_label=True)\n",
    "test_data_spacy=format_data_for_evaluation(test_data, nlp)\n",
    "test_metrics = nlp.evaluate(test_data_spacy)\n",
    "print(test_metrics)"
   ]
  },
  {
   "cell_type": "code",
   "execution_count": null,
   "id": "2d8b5ef7",
   "metadata": {},
   "outputs": [],
   "source": []
  },
  {
   "cell_type": "code",
   "execution_count": 14,
   "id": "1795a616",
   "metadata": {},
   "outputs": [
    {
     "name": "stdout",
     "output_type": "stream",
     "text": [
      "#IT   | Loss     | Prec   | Recall | F_Scr  | Save Mod | Duração    \n",
      "0     | 30403.22 | 082.41 | 069.40 | 075.35 | S        | 00:15:17\n",
      "1     | 20341.30 | 074.54 | 080.48 | 077.39 | S        | 00:15:19\n",
      "2     | 17704.59 | 080.42 | 076.18 | 078.25 | S        | 00:15:25\n",
      "3     | 15935.56 | 083.54 | 075.80 | 079.48 | S        | 00:15:31\n",
      "4     | 15167.09 | 081.22 | 079.55 | 080.37 | S        | 00:15:34\n",
      "5     | 14732.48 | 083.85 | 075.96 | 079.71 | N        | 00:15:28\n",
      "6     | 14471.01 | 080.07 | 078.07 | 079.05 | N        | 00:15:41\n",
      "7     | 14193.32 | 082.22 | 079.32 | 080.74 | S        | 00:15:54\n",
      "8     | 13959.60 | 072.66 | 075.11 | 073.86 | N        | 00:15:33\n",
      "9     | 13646.91 | 080.70 | 078.33 | 079.50 | N        | 00:15:26\n"
     ]
    }
   ],
   "source": [
    "train_data =  load_data(LABEL_CHEMICAL, TRAIN_DATASET, group_by_label=True)\n",
    "validate_data = load_data(LABEL_CHEMICAL, VALIDATE_DATASET, group_by_label=True)\n",
    "nlp = train_spacy_one_label(train_data,validate_data, 10, LABEL_CHEMICAL, word_embedding=WORD_VECTOR_GLOVE ,description=\"Treino Isolado de Chemical com WordVec Glove 840B.300d\")"
   ]
  },
  {
   "cell_type": "code",
   "execution_count": 15,
   "id": "71cdbc14",
   "metadata": {},
   "outputs": [
    {
     "name": "stdout",
     "output_type": "stream",
     "text": [
      "{'token_acc': 1.0, 'token_p': 1.0, 'token_r': 1.0, 'token_f': 1.0, 'ents_p': 0.8280228758169934, 'ents_r': 0.7915134554684196, 'ents_f': 0.8093566473122931, 'ents_per_type': {'CHEMICAL': {'p': 0.8280228758169934, 'r': 0.7915134554684196, 'f': 0.8093566473122931}}, 'speed': 40307.3784585951}\n"
     ]
    }
   ],
   "source": [
    "nlp = spacy.load(os.path.join(MODEL_TRAIN_PATH, LABEL_CHEMICAL))\n",
    "test_data = load_data(LABEL_CHEMICAL, TEST_DATASET, group_by_label=True)\n",
    "test_data_spacy=format_data_for_evaluation(test_data, nlp)\n",
    "test_metrics = nlp.evaluate(test_data_spacy)\n",
    "print(test_metrics)"
   ]
  },
  {
   "cell_type": "code",
   "execution_count": null,
   "id": "04b54be5",
   "metadata": {},
   "outputs": [],
   "source": []
  },
  {
   "cell_type": "code",
   "execution_count": 16,
   "id": "5d3d6812",
   "metadata": {},
   "outputs": [
    {
     "name": "stdout",
     "output_type": "stream",
     "text": [
      "#IT   | Loss     | Prec   | Recall | F_Scr  | Save Mod | Duração    \n",
      "0     | 09596.31 | 076.89 | 059.37 | 067.00 | S        | 00:04:14\n",
      "1     | 06218.46 | 077.50 | 069.96 | 073.54 | S        | 00:04:14\n",
      "2     | 05396.39 | 078.43 | 069.06 | 073.45 | N        | 00:04:14\n",
      "3     | 04872.73 | 074.57 | 072.88 | 073.71 | S        | 00:04:19\n",
      "4     | 04394.85 | 073.00 | 066.24 | 069.46 | N        | 00:04:19\n",
      "5     | 03992.47 | 078.99 | 070.06 | 074.26 | S        | 00:04:25\n",
      "6     | 03731.85 | 078.80 | 070.61 | 074.48 | S        | 00:04:17\n",
      "7     | 03602.43 | 078.48 | 070.59 | 074.33 | N        | 00:04:13\n",
      "8     | 03327.46 | 082.83 | 068.07 | 074.73 | S        | 00:04:16\n",
      "9     | 03210.17 | 076.92 | 073.04 | 074.93 | S        | 00:04:25\n"
     ]
    }
   ],
   "source": [
    "train_data =  load_data(LABEL_DISEASE, TRAIN_DATASET, group_by_label=True)\n",
    "validate_data = load_data(LABEL_DISEASE, VALIDATE_DATASET, group_by_label=True)\n",
    "nlp = train_spacy_one_label(train_data,validate_data, 10, LABEL_DISEASE, word_embedding=WORD_VECTOR_GLOVE ,description=\"Treino Isolado de Disease com WordVec Glove 840B.300d\")"
   ]
  },
  {
   "cell_type": "code",
   "execution_count": 17,
   "id": "3a9a58f4",
   "metadata": {},
   "outputs": [
    {
     "name": "stdout",
     "output_type": "stream",
     "text": [
      "{'token_acc': 1.0, 'token_p': 1.0, 'token_r': 1.0, 'token_f': 1.0, 'ents_p': 0.7606013878180417, 'ents_r': 0.7329123328380386, 'ents_f': 0.7465001891789633, 'ents_per_type': {'DISEASE': {'p': 0.7606013878180417, 'r': 0.7329123328380386, 'f': 0.7465001891789633}}, 'speed': 40236.75947895969}\n"
     ]
    }
   ],
   "source": [
    "nlp = spacy.load(os.path.join(MODEL_TRAIN_PATH, LABEL_DISEASE))\n",
    "test_data = load_data(LABEL_DISEASE, TEST_DATASET, group_by_label=True)\n",
    "test_data_spacy=format_data_for_evaluation(test_data, nlp)\n",
    "test_metrics = nlp.evaluate(test_data_spacy)\n",
    "print(test_metrics)"
   ]
  },
  {
   "cell_type": "markdown",
   "id": "fcbc4ef7",
   "metadata": {
    "tags": []
   },
   "source": [
    "### Treinamento Multiplos labels com uma camada de NER"
   ]
  },
  {
   "cell_type": "code",
   "execution_count": 9,
   "id": "df0ea777",
   "metadata": {},
   "outputs": [],
   "source": [
    "def train_spacy_muliple_label(train_data, validate_data, iterations, lista_label, description):\n",
    "    nlp_train = spacy.blank(\"en\")\n",
    "    #nlp_train = spacy.load(\"en_core_web_md\")\n",
    "    \n",
    "    ner = nlp_train.add_pipe(\"ner\")\n",
    "    for label in lista_label:\n",
    "        ner.add_label(label)    \n",
    "    \n",
    "    best_ents_p = -1\n",
    "    best_ents_r = -1\n",
    "    best_ents_f = -1\n",
    "    \n",
    "    with open(os.path.join(MODEL_TRAIN_AGGRATE_PATH, \"log_treino.txt\" ) , \"a\") as log_file:\n",
    "        log_file.write(\"\\n\")\n",
    "        log_file.write(f\"=======> [LABELS AGREGADOS] Inicio Treino {time.strftime('%d/%m/%Y %H:%M:%S', time.gmtime(time.time()))} ===================================== \\n\")\n",
    "        log_file.write(f\"Detalhes: {description} \\n\\n\")\n",
    "        \n",
    "        other_pipes = [pipe for pipe in nlp_train.pipe_names if pipe != \"ner\"]\n",
    "        with nlp_train.disable_pipes(*other_pipes):\n",
    "            optimizer = nlp_train.begin_training()\n",
    "            #optimizer = nlp_train.create_optimizer()\n",
    "            print(f\"{'#IT':5} | {'Loss':10} | {'Label':12} | {'Prec':6} | {'Recall':6} | {'F_Scr':6} | {'Save Mod':8} | {'Duração':10} \")\n",
    "            log_file.write(f\"{'#IT':5} | {'Loss':10} | {'Prec':6} | {'Recall':6} | {'F_Scr':6} | {'Save Mod':8} | {'Duracao':10} \\n\")\n",
    "            \n",
    "            for itn in range(iterations):\n",
    "                start_time = time.time()\n",
    "                linha = f\"{str(itn):5} | \"\n",
    "                random.shuffle(train_data)\n",
    "                losses = {}\n",
    "                batches = minibatch(train_data, size=512)\n",
    "\n",
    "                for batch in batches:\n",
    "                    for text, annotations in batch:\n",
    "                        doc = nlp_train.make_doc(text)\n",
    "                        example = Example.from_dict(doc, annotations)\n",
    "                        nlp_train.update( [example],\n",
    "                            drop=0.2,  \n",
    "                            sgd=optimizer,\n",
    "                            losses=losses)\n",
    "\n",
    "                validate_metrics = nlp_train.evaluate(format_data_for_evaluation(validate_data, nlp_train))\n",
    "                linha += f\"{losses[list(losses)[0]]:10.2f} | {'Geral':12} | {validate_metrics['ents_p']*100:06.2f} | {validate_metrics['ents_r']*100:06.2f} | {validate_metrics['ents_f']*100:06.2f} | \"\n",
    "\n",
    "                if (validate_metrics[\"ents_f\"] > best_ents_f):\n",
    "                    best_ents_r = validate_metrics[\"ents_r\"]\n",
    "                    best_ents_f = validate_metrics[\"ents_f\"]\n",
    "                    best_ents_p = validate_metrics[\"ents_p\"]\n",
    "                    linha += f\"{'S':8} | \"\n",
    "                    \n",
    "                    Path(MODEL_TRAIN_AGGRATE_PATH).mkdir(parents=True, exist_ok=True)\n",
    "                    nlp_train.to_disk(MODEL_TRAIN_AGGRATE_PATH)                \n",
    "                else:\n",
    "                    linha += f\"{'N':8} | \"\n",
    "                \n",
    "                elapsed = time.strftime(\"%H:%M:%S\", time.gmtime(time.time() - start_time))\n",
    "                linha += elapsed +\" \\n\"\n",
    "                \n",
    "                for label in lista_label:\n",
    "                    linha += f\"{'':5} | {'':10} | {label:12} | {validate_metrics['ents_per_type'][label]['p']*100:06.2f} | {validate_metrics['ents_per_type'][label]['r']*100:06.2f} | {validate_metrics['ents_per_type'][label]['f']*100:06.2f} | {'':8} | \\n\"\n",
    "\n",
    "                print(linha)\n",
    "                log_file.write(linha + \"\\n\")\n",
    "                log_file.flush()\n",
    "    return nlp_train"
   ]
  },
  {
   "cell_type": "code",
   "execution_count": null,
   "id": "38d96645",
   "metadata": {},
   "outputs": [],
   "source": [
    "train_data =  load_data(LABEL_DISEASE, TRAIN_DATASET, group_by_label=False)\n",
    "validate_data = load_data(LABEL_DISEASE, VALIDATE_DATASET, group_by_label=False)\n",
    "nlp = train_spacy_muliple_label(train_data,validate_data, 10, LABEL_LIST, \"Treino Agregado, Multiplos Labels com uma camada de NER\")"
   ]
  },
  {
   "cell_type": "markdown",
   "id": "9ae5c238",
   "metadata": {},
   "source": [
    "### Treinamento Multiplos labels com Múltiplas camadas de NER "
   ]
  },
  {
   "cell_type": "code",
   "execution_count": 13,
   "id": "d0c8dbe5",
   "metadata": {},
   "outputs": [],
   "source": [
    "def train_spacy_muliple_label_multiple_ner_layer(train_data, validate_data, iterations, lista_label, description):\n",
    "    nlp_train = spacy.blank(\"en\")\n",
    "    #nlp_train = spacy.load(\"en_core_web_md\")\n",
    "    \n",
    "    lista_ner_pipes = []\n",
    "    for label in lista_label:\n",
    "        ner_name = label + \"_ner\"\n",
    "        ner = nlp_train.add_pipe(\"ner\", name=ner_name)\n",
    "        ner.add_label(label)    \n",
    "        lista_ner_pipes.append(ner_name)\n",
    "    \n",
    "    best_ents_p = -1\n",
    "    best_ents_r = -1\n",
    "    best_ents_f = -1\n",
    "    \n",
    "    with open(os.path.join(MODEL_TRAIN_AGGRATE_PATH, \"log_treino.txt\" ) , \"a\") as log_file:\n",
    "        log_file.write(\"\\n\")\n",
    "        log_file.write(f\"=======> [LABELS AGREGADOS] Inicio Treino {time.strftime('%d/%m/%Y %H:%M:%S', time.gmtime(time.time()))} ===================================== \\n\")\n",
    "        log_file.write(f\"Detalhes: {description} \\n\\n\")\n",
    "        \n",
    "        other_pipes = [pipe for pipe in nlp_train.pipe_names if pipe not in lista_ner_pipes]\n",
    "        with nlp_train.disable_pipes(*other_pipes):\n",
    "            optimizer = nlp_train.begin_training()\n",
    "            #optimizer = nlp_train.create_optimizer()\n",
    "            print(f\"{'#IT':5} | {'Loss':10} | {'Label':12} | {'Prec':6} | {'Recall':6} | {'F_Scr':6} | {'Save Mod':8} | {'Duração':10} \")\n",
    "            log_file.write(f\"{'#IT':5} | {'Loss':10} | {'Prec':6} | {'Recall':6} | {'F_Scr':6} | {'Save Mod':8} | {'Duracao':10} \\n\")\n",
    "            \n",
    "            for itn in range(iterations):\n",
    "                start_time = time.time()\n",
    "                linha = f\"{str(itn):5} | \"\n",
    "                random.shuffle(train_data)\n",
    "                losses = {}\n",
    "                batches = minibatch(train_data, size=512)\n",
    "\n",
    "                for batch in batches:\n",
    "                    for text, annotations in batch:\n",
    "                        doc = nlp_train.make_doc(text)\n",
    "                        example = Example.from_dict(doc, annotations)\n",
    "                        nlp_train.update( [example],\n",
    "                            drop=0.2,  \n",
    "                            sgd=optimizer,\n",
    "                            losses=losses)\n",
    "\n",
    "                validate_metrics = nlp_train.evaluate(format_data_for_evaluation(validate_data, nlp_train))\n",
    "                linha += f\"{losses[list(losses)[0]]:10.2f} | {'Geral':12} | {validate_metrics['ents_p']*100:06.2f} | {validate_metrics['ents_r']*100:06.2f} | {validate_metrics['ents_f']*100:06.2f} | \"\n",
    "\n",
    "                if (validate_metrics[\"ents_f\"] > best_ents_f):\n",
    "                    best_ents_r = validate_metrics[\"ents_r\"]\n",
    "                    best_ents_f = validate_metrics[\"ents_f\"]\n",
    "                    best_ents_p = validate_metrics[\"ents_p\"]\n",
    "                    linha += f\"{'S':8} | \"\n",
    "                    \n",
    "                    Path(MODEL_TRAIN_AGGRATE_PATH).mkdir(parents=True, exist_ok=True)\n",
    "                    nlp_train.to_disk(MODEL_TRAIN_AGGRATE_PATH)                \n",
    "                else:\n",
    "                    linha += f\"{'N':8} | \"\n",
    "                \n",
    "                elapsed = time.strftime(\"%H:%M:%S\", time.gmtime(time.time() - start_time))\n",
    "                linha += elapsed + \" \\n\"\n",
    "                \n",
    "                for label in lista_label:\n",
    "                    linha += f\"{'':5} | {'':10} | {label:12} | {validate_metrics['ents_per_type'][label]['p']*100:06.2f} | {validate_metrics['ents_per_type'][label]['r']*100:06.2f} | {validate_metrics['ents_per_type'][label]['f']*100:06.2f} | {'':8} | \\n\"\n",
    "                \n",
    "                \n",
    "\n",
    "                print(linha)\n",
    "                log_file.write(linha + \"\\n\")\n",
    "                log_file.flush()\n",
    "    return nlp_train"
   ]
  },
  {
   "cell_type": "code",
   "execution_count": null,
   "id": "0932d1c0",
   "metadata": {},
   "outputs": [],
   "source": [
    "train_data =  load_data(LABEL_DISEASE, TRAIN_DATASET, group_by_label=False)\n",
    "validate_data = load_data(LABEL_DISEASE, VALIDATE_DATASET, group_by_label=False)\n",
    "nlp = train_spacy_muliple_label_multiple_ner_layer(train_data,validate_data, 10, LABEL_LIST, \"Treino Agregado, Multiplos Labels com multiplas camadas  NER\")"
   ]
  },
  {
   "cell_type": "code",
   "execution_count": null,
   "id": "0277f353",
   "metadata": {},
   "outputs": [],
   "source": []
  }
 ],
 "metadata": {
  "kernelspec": {
   "display_name": "Python 3",
   "language": "python",
   "name": "python3"
  },
  "language_info": {
   "codemirror_mode": {
    "name": "ipython",
    "version": 3
   },
   "file_extension": ".py",
   "mimetype": "text/x-python",
   "name": "python",
   "nbconvert_exporter": "python",
   "pygments_lexer": "ipython3",
   "version": "3.8.8"
  }
 },
 "nbformat": 4,
 "nbformat_minor": 5
}
