{
 "cells": [
  {
   "cell_type": "code",
   "execution_count": 1,
   "id": "informal-financing",
   "metadata": {},
   "outputs": [],
   "source": [
    "import os\n",
    "from pathlib import Path\n",
    "import re\n",
    "import string\n",
    "import json\n",
    "import random\n",
    "import sys\n",
    "import time\n",
    "\n",
    "from tqdm import tqdm\n",
    "import spacy\n",
    "from spacy.tokens import DocBin\n",
    "from spacy.util import minibatch, compounding\n",
    "from spacy.training import Example"
   ]
  },
  {
   "cell_type": "code",
   "execution_count": 2,
   "id": "useful-atmosphere",
   "metadata": {},
   "outputs": [],
   "source": [
    "LABEL_DRUG_PROTEIN = 'DRUG-PROTEIN'\n",
    "LABEL_CHEMICAL = 'CHEMICAL'\n",
    "LABEL_DISEASE = 'DISEASE'\n",
    "LABEL_SPECIES = 'SPECIES'\n",
    "\n",
    "LABEL_LIST = [LABEL_DRUG_PROTEIN,\n",
    "              LABEL_CHEMICAL,\n",
    "              LABEL_DISEASE,    \n",
    "              LABEL_SPECIES]\n",
    "\n",
    "LABEL_TO_DIR = {\n",
    "    LABEL_DRUG_PROTEIN: ['BC2GM', 'JNLPBA'],\n",
    "    LABEL_CHEMICAL: ['BC4CHEMD','BC5CDR-chem'],\n",
    "    LABEL_DISEASE: ['BC5CDR-disease', 'NCBI-disease'],    \n",
    "    LABEL_SPECIES: ['linnaeus', 's800']\n",
    "}\n",
    "\n",
    "DATASET_PATH = \"NER-Data\"\n",
    "NER_PATH = \"NER-Process\"\n",
    "\n",
    "TRAIN_DEV_DATASET = \"train_dev\"\n",
    "TRAIN_DATASET = \"train\"\n",
    "VALIDATE_DATASET = \"devel\"\n",
    "TEST_DATASET = \"test\"\n",
    "\n",
    "DATASET_TYPE = [TRAIN_DATASET, VALIDATE_DATASET, TEST_DATASET]"
   ]
  },
  {
   "cell_type": "code",
   "execution_count": 40,
   "id": "military-lindsay",
   "metadata": {},
   "outputs": [],
   "source": [
    "#main_nlp = spacy.load(\"en_core_web_sm\")\n",
    "main_nlp = spacy.blank(\"en\")\n",
    "\n",
    "path = os.path.join(NER_PATH, LABEL_SPECIES, \"best_model\")\n",
    "nlp_species = spacy.load(path)\n",
    "\n",
    "path = os.path.join(NER_PATH, LABEL_DRUG_PROTEIN, \"best_model\")\n",
    "nlp_drug_protein = spacy.load(path)\n",
    "\n",
    "path = os.path.join(NER_PATH, LABEL_CHEMICAL, \"best_model\")\n",
    "nlp_chemical = spacy.load(path)\n",
    "\n",
    "path = os.path.join(NER_PATH, LABEL_DISEASE, \"best_model\")\n",
    "nlp_disease = spacy.load(path)\n"
   ]
  },
  {
   "cell_type": "code",
   "execution_count": 44,
   "id": "essential-generator",
   "metadata": {},
   "outputs": [],
   "source": [
    "if len(main_nlp.pipe_names) > 0:\n",
    "    main_nlp.add_pipe(LABEL_SPECIES + \"_ner\", source=nlp_species, before=\"ner\")\n",
    "    main_nlp.add_pipe(LABEL_DRUG_PROTEIN + \"_ner\", source=nlp_drug_protein, before=\"ner\")\n",
    "    main_nlp.add_pipe(LABEL_CHEMICAL + \"_ner\", source=nlp_chemical, before=\"ner\")\n",
    "    main_nlp.add_pipe(LABEL_DISEASE + \"_ner\", source=nlp_disease, before=\"ner\")\n",
    "    main_nlp.remove_pipe(\"ner\")\n",
    "else:\n",
    "    main_nlp.add_pipe(LABEL_SPECIES + \"_ner\", source=nlp_species)\n",
    "    main_nlp.add_pipe(LABEL_DRUG_PROTEIN + \"_ner\", source=nlp_drug_protein)\n",
    "    main_nlp.add_pipe(LABEL_CHEMICAL + \"_ner\", source=nlp_chemical)\n",
    "    main_nlp.add_pipe(LABEL_DISEASE + \"_ner\", source=nlp_disease)"
   ]
  },
  {
   "cell_type": "code",
   "execution_count": 45,
   "id": "found-mustang",
   "metadata": {},
   "outputs": [
    {
     "data": {
      "text/plain": [
       "['SPECIES_ner', 'DRUG-PROTEIN_ner', 'CHEMICAL_ner', 'DISEASE_ner']"
      ]
     },
     "execution_count": 45,
     "metadata": {},
     "output_type": "execute_result"
    }
   ],
   "source": [
    "main_nlp.pipe_names"
   ]
  },
  {
   "cell_type": "code",
   "execution_count": 26,
   "id": "serious-flashing",
   "metadata": {},
   "outputs": [],
   "source": [
    "def format_data_for_evalation(data, nlp_model): \n",
    "    data_formated = []\n",
    "    for text, annotations in data:\n",
    "        doc = nlp_model.make_doc(text)\n",
    "        example = Example.from_dict(doc, annotations)\n",
    "        data_formated.append(example)\n",
    "    return data_formated"
   ]
  },
  {
   "cell_type": "code",
   "execution_count": 27,
   "id": "impressive-nigeria",
   "metadata": {},
   "outputs": [],
   "source": [
    "def load_data(label, data_set_type=TRAIN_DATASET):\n",
    "    train_data = []\n",
    "    file = os.path.join(NER_PATH, label, label + \"-\" + data_set_type + \".json\")\n",
    "    with open (file, \"r\", encoding=\"utf-8\") as f:\n",
    "        data = json.load(f)\n",
    "    for item in data:\n",
    "        texto = item[\"texto\"]\n",
    "        entities = []\n",
    "        for entidade in item[\"entities\"]:\n",
    "            info = (entidade[\"start\"], entidade[\"end\"], entidade[\"label\"])\n",
    "            entities.append(info)\n",
    "        train_data.append((texto,{\"entities\":entities}))\n",
    "    return train_data"
   ]
  },
  {
   "cell_type": "code",
   "execution_count": 46,
   "id": "resistant-concept",
   "metadata": {},
   "outputs": [
    {
     "name": "stdout",
     "output_type": "stream",
     "text": [
      "{'token_acc': 1.0, 'token_p': 1.0, 'token_r': 1.0, 'token_f': 1.0, 'ents_p': 0.45914078279382065, 'ents_r': 0.6693458538914532, 'ents_f': 0.5446656953213534, 'ents_per_type': {'SPECIES': {'p': 0.0, 'r': 0.0, 'f': 0.0}, 'DRUG-PROTEIN': {'p': 0.6717514575513138, 'r': 0.6693458538914532, 'f': 0.6705464981863116}, 'CHEMICAL': {'p': 0.0, 'r': 0.0, 'f': 0.0}, 'DISEASE': {'p': 0.0, 'r': 0.0, 'f': 0.0}}, 'speed': 9286.318412860264}\n",
      "{'token_acc': 1.0, 'token_p': 1.0, 'token_r': 1.0, 'token_f': 1.0, 'ents_p': 0.3521415343394145, 'ents_r': 0.5816276723829358, 'ents_f': 0.438684975886316, 'ents_per_type': {'CHEMICAL': {'p': 0.8673330745341615, 'r': 0.5816276723829358, 'f': 0.6963127446970139}, 'SPECIES': {'p': 0.0, 'r': 0.0, 'f': 0.0}, 'DISEASE': {'p': 0.0, 'r': 0.0, 'f': 0.0}, 'DRUG-PROTEIN': {'p': 0.0, 'r': 0.0, 'f': 0.0}}, 'speed': 8987.40239940502}\n",
      "{'token_acc': 1.0, 'token_p': 1.0, 'token_r': 1.0, 'token_f': 1.0, 'ents_p': 0.3240492273526418, 'ents_r': 0.6504457652303121, 'ents_f': 0.4325860045704404, 'ents_per_type': {'DISEASE': {'p': 0.7862595419847328, 'r': 0.6504457652303121, 'f': 0.7119333197804432}, 'CHEMICAL': {'p': 0.0, 'r': 0.0, 'f': 0.0}, 'SPECIES': {'p': 0.0, 'r': 0.0, 'f': 0.0}, 'DRUG-PROTEIN': {'p': 0.0, 'r': 0.0, 'f': 0.0}}, 'speed': 9196.602426168503}\n",
      "{'token_acc': 1.0, 'token_p': 1.0, 'token_r': 1.0, 'token_f': 1.0, 'ents_p': 0.34456671251719395, 'ents_r': 0.6831818181818182, 'ents_f': 0.45809204510819873, 'ents_per_type': {'SPECIES': {'p': 0.8217605248769819, 'r': 0.6831818181818182, 'f': 0.746090841399851}, 'CHEMICAL': {'p': 0.0, 'r': 0.0, 'f': 0.0}, 'DISEASE': {'p': 0.0, 'r': 0.0, 'f': 0.0}, 'DRUG-PROTEIN': {'p': 0.0, 'r': 0.0, 'f': 0.0}}, 'speed': 9062.182985819054}\n"
     ]
    }
   ],
   "source": [
    "for label in LABEL_LIST:\n",
    "    test_data = load_data(label, TEST_DATASET)\n",
    "    test_data_spacy=format_data_for_evalation(test_data, main_nlp)\n",
    "    test_metrics = main_nlp.evaluate(test_data_spacy)\n",
    "    print(test_metrics)"
   ]
  },
  {
   "cell_type": "code",
   "execution_count": null,
   "id": "actual-candidate",
   "metadata": {},
   "outputs": [],
   "source": []
  }
 ],
 "metadata": {
  "kernelspec": {
   "display_name": "Python 3",
   "language": "python",
   "name": "python3"
  },
  "language_info": {
   "codemirror_mode": {
    "name": "ipython",
    "version": 3
   },
   "file_extension": ".py",
   "mimetype": "text/x-python",
   "name": "python",
   "nbconvert_exporter": "python",
   "pygments_lexer": "ipython3",
   "version": "3.8.8"
  }
 },
 "nbformat": 4,
 "nbformat_minor": 5
}
