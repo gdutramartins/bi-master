{
 "cells": [
  {
   "cell_type": "code",
   "execution_count": 6,
   "id": "nasty-nowhere",
   "metadata": {},
   "outputs": [],
   "source": [
    "import os\n",
    "import re\n",
    "import string\n"
   ]
  },
  {
   "cell_type": "code",
   "execution_count": 3,
   "id": "cellular-lebanon",
   "metadata": {},
   "outputs": [],
   "source": [
    "LABEL_DRUG_PROTEIN = 'DRUG-PROTEIN'\n",
    "LABEL_CHEMICAL = 'CHEMICAL'\n",
    "LABEL_DISEASE = 'DISEASE'\n",
    "LABEL_SPECIES = 'SPECIES'\n",
    "\n",
    "LABEL_PATH = {\n",
    "    LABEL_DRUG_PROTEIN: ['BC2GM', 'JNLPBA'],\n",
    "    LABEL_CHEMICAL: ['BC4CHEMD','BC5CDR-chem'],\n",
    "    LABEL_DISEASE: ['BC5CDR-disease', 'NCBI-disease'],    \n",
    "    LABEL_SPECIES: ['linnaeus', 's800']\n",
    "}\n",
    "\n",
    "TRAIN_PATH = 'NER-Data'\n",
    "\n",
    "FILE_TYPES = [\"train.tsv\", \"devel.tsv\", \"test.tsv\"]\n",
    "\n"
   ]
  },
  {
   "cell_type": "code",
   "execution_count": 13,
   "id": "ahead-morrison",
   "metadata": {},
   "outputs": [],
   "source": [
    "dataset_ner_file = os.path.join(TRAIN_PATH, \"BC2GM\", FILE_TYPES[0])\n",
    "with open(dataset_ner_file) as f_ner: \n",
    "    sentenca = \"\"\n",
    "    entities = []\n",
    "    lista_sentenca = []\n",
    "    ini_entity_atual = 0\n",
    "    pos_atual = 0\n",
    "    entidade_atual = \"\"\n",
    "    \n",
    "    for linha in f_ner:\n",
    "        if linha != \"\\n\":\n",
    "            if (\"\\tO\" in linha):\n",
    "                if len(entidade_atual) > 0:\n",
    "                    entities.append((entidade_atual[0:-1], ini_entity_atual, pos_atual-1))\n",
    "                    entidade_atual = \"\"\n",
    "                    ini_entity_atual = 0\n",
    "                linha_tratada = linha.replace(\"\\tO\",\"\").replace(\"\\n\", \" \")\n",
    "                \n",
    "            elif(\"\\tB\" in linha):\n",
    "                if len(entidade_atual) > 0:\n",
    "                    entities.append((entidade_atual[0:-1], ini_entity_atual, len(entidade_atual) -1))                    \n",
    "                ini_entity_atual = pos_atual\n",
    "                linha_tratada = linha.replace(\"\\tB\",\"\").replace(\"\\n\", \" \")\n",
    "                entidade_atual = linha_tratada                \n",
    "            elif(\"\\tI\" in linha):\n",
    "                linha_tratada = linha.replace(\"\\tI\",\"\").replace(\"\\n\", \" \")\n",
    "                if linha_tratada[0] in string.punctuation:\n",
    "                    linha_tratada = linha_tratada[0:-1]\n",
    "                    pos_atual = pos_atual - 1\n",
    "                    entidade_atual = entidade_atual[0:-1] + linha_tratada\n",
    "                    sentenca = sentenca[0:-1]                    \n",
    "                else:\n",
    "                    entidade_atual += linha_tratada\n",
    "                    \n",
    "            pos_atual += len(linha_tratada)\n",
    "            sentenca = sentenca + linha_tratada\n",
    "        elif linha == \"\\n\":\n",
    "            lista_sentenca.append((sentenca, entities))\n",
    "            sentenca = \"\"\n",
    "        if len(lista_sentenca) > 2:\n",
    "            break\n",
    "        \n",
    "    "
   ]
  },
  {
   "cell_type": "code",
   "execution_count": 14,
   "id": "russian-brake",
   "metadata": {},
   "outputs": [
    {
     "data": {
      "text/plain": [
       "[('Immunohistochemical staining was positive for S-100 in all 9 cases stained , positive for HMB-45 in 9 ( 90 % ) of 10 , and negative for cytokeratin in all 9 cases in which myxoid melanoma remained in the block after previous sections . ',\n",
       "  [('S-100', 46, 51),\n",
       "   ('HMB-45', 90, 96),\n",
       "   ('cytokeratin', 136, 147),\n",
       "   ('Chloramphenicol acetyltransferase', 236, 269),\n",
       "   ('IE86', 302, 306),\n",
       "   ('IE promoter', 347, 358),\n",
       "   ('HCMV early promoter', 375, 394),\n",
       "   ('IE86 protein', 473, 485),\n",
       "   ('DNA repair gene', 494, 509),\n",
       "   ('RecA', 558, 562)]),\n",
       " ('Chloramphenicol acetyltransferase assays examining the ability of IE86 to repress activity from the HCMV major IE promoter or activate the HCMV early promoter for the 2 . 2 - kb class of RNAs demonstrated the functional integrity of the IE86 protein . ',\n",
       "  [('S-100', 46, 51),\n",
       "   ('HMB-45', 90, 96),\n",
       "   ('cytokeratin', 136, 147),\n",
       "   ('Chloramphenicol acetyltransferase', 236, 269),\n",
       "   ('IE86', 302, 306),\n",
       "   ('IE promoter', 347, 358),\n",
       "   ('HCMV early promoter', 375, 394),\n",
       "   ('IE86 protein', 473, 485),\n",
       "   ('DNA repair gene', 494, 509),\n",
       "   ('RecA', 558, 562)]),\n",
       " ('A new DNA repair gene from Schizosaccharomyces pombe with homology to RecA was identified and characterized . ',\n",
       "  [('S-100', 46, 51),\n",
       "   ('HMB-45', 90, 96),\n",
       "   ('cytokeratin', 136, 147),\n",
       "   ('Chloramphenicol acetyltransferase', 236, 269),\n",
       "   ('IE86', 302, 306),\n",
       "   ('IE promoter', 347, 358),\n",
       "   ('HCMV early promoter', 375, 394),\n",
       "   ('IE86 protein', 473, 485),\n",
       "   ('DNA repair gene', 494, 509),\n",
       "   ('RecA', 558, 562)])]"
      ]
     },
     "execution_count": 14,
     "metadata": {},
     "output_type": "execute_result"
    }
   ],
   "source": [
    "lista_sentenca"
   ]
  },
  {
   "cell_type": "code",
   "execution_count": null,
   "id": "macro-auckland",
   "metadata": {},
   "outputs": [],
   "source": []
  }
 ],
 "metadata": {
  "kernelspec": {
   "display_name": "Python 3",
   "language": "python",
   "name": "python3"
  },
  "language_info": {
   "codemirror_mode": {
    "name": "ipython",
    "version": 3
   },
   "file_extension": ".py",
   "mimetype": "text/x-python",
   "name": "python",
   "nbconvert_exporter": "python",
   "pygments_lexer": "ipython3",
   "version": "3.8.8"
  }
 },
 "nbformat": 4,
 "nbformat_minor": 5
}
