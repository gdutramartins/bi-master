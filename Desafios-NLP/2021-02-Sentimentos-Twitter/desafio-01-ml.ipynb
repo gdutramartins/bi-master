{
 "cells": [
  {
   "cell_type": "code",
   "execution_count": 5,
   "metadata": {},
   "outputs": [],
   "source": [
    "import pandas as pd\n",
    "import numpy as np\n",
    "\n",
    "import nltk\n",
    "from nltk.tokenize import TweetTokenizer, word_tokenize\n",
    "from nltk.corpus import stopwords\n",
    "from nltk.stem import WordNetLemmatizer\n",
    "\n",
    "import re,string,unicodedata\n",
    "from collections import Counter\n",
    "\n",
    "import matplotlib.cm as cm\n",
    "import matplotlib.pyplot as plt\n",
    "\n",
    "from sklearn.linear_model import LogisticRegression\n",
    "from sklearn.ensemble import RandomForestClassifier\n",
    "from sklearn.naive_bayes import MultinomialNB\n",
    "from sklearn.svm import LinearSVC\n",
    "from sklearn.feature_selection import chi2\n",
    "from sklearn.model_selection import cross_val_score\n",
    "from sklearn.model_selection import train_test_split\n",
    "from sklearn.metrics import confusion_matrix\n",
    "\n",
    "import seaborn as sns\n",
    "\n",
    "import contractions \n",
    "\n",
    "from sklearn import metrics \n",
    "from sklearn.feature_extraction.text import TfidfVectorizer"
   ]
  },
  {
   "cell_type": "code",
   "execution_count": 6,
   "metadata": {},
   "outputs": [
    {
     "name": "stdout",
     "output_type": "stream",
     "text": [
      "showing info https://raw.githubusercontent.com/nltk/nltk_data/gh-pages/index.xml\n"
     ]
    },
    {
     "name": "stderr",
     "output_type": "stream",
     "text": [
      "[nltk_data] Downloading package stopwords to\n",
      "[nltk_data]     C:\\Users\\gdutr\\AppData\\Roaming\\nltk_data...\n",
      "[nltk_data]   Package stopwords is already up-to-date!\n"
     ]
    }
   ],
   "source": [
    "nltk.download()\n",
    "nltk.download('stopwords')\n",
    "\n",
    "lista_stopwords = set(stopwords.words('english'))\n",
    "punctuation = list(string.punctuation)\n",
    "lista_stopwords.update(punctuation)"
   ]
  },
  {
   "cell_type": "code",
   "execution_count": 7,
   "metadata": {},
   "outputs": [],
   "source": [
    "def mostra_relacao_ngrams_sentimento(features, feature_names, labels, labels_dict, ngrams=3, N=3):\n",
    "    \n",
    "    for sentiment, sentiment_id in sorted(labels_dict.items()):\n",
    "        features_chi2 = chi2(features, labels == sentiment_id)\n",
    "        indices = np.argsort(features_chi2[0])\n",
    "        feature_names = np.array(feature_names)[indices] # vectorizer.get_feature_names()\n",
    "        unigrams = [v for v in feature_names if len(v.split(' ')) == 1]\n",
    "        bigrams = [v for v in feature_names if len(v.split(' ')) == 2]\n",
    "        trigrams = [v for v in feature_names if len(v.split(' ')) == 3]\n",
    "    \n",
    "        print(\"# '{}':\".format(sentiment))\n",
    "        print(\"  . Most correlated unigrams:\\n. {}\".format('\\n. '.join(unigrams[-N:])))\n",
    "        print(\"  . Most correlated bigrams:\\n. {}\".format('\\n. '.join(bigrams[-N:])))\n",
    "        print(\"  . Most correlated trigrams:\\n. {}\".format('\\n. '.join(trigrams[-N:])))"
   ]
  },
  {
   "cell_type": "markdown",
   "metadata": {},
   "source": [
    "### Rotina Pré-Processamento (Representação por Frequência)"
   ]
  },
  {
   "cell_type": "code",
   "execution_count": 8,
   "metadata": {},
   "outputs": [],
   "source": [
    "# separa tokens de acordo com os parâmetros informados\n",
    "def split_tokens_word_freq(texto, vocab, use_twitter_tokenizer,use_lemmatizer):\n",
    "    lemmatizer = WordNetLemmatizer()\n",
    "    \n",
    "    texto = texto.lower()\n",
    "    texto = contractions.fix(texto)    \n",
    "    \n",
    "    if use_twitter_tokenizer:\n",
    "        tokenizer = TweetTokenizer(strip_handles=True, reduce_len=True)\n",
    "        lista_tokens_inicial = tokenizer.tokenize(texto)\n",
    "    else:\n",
    "        lista_tokens_inicial = word_tokenize(texto)\n",
    "    \n",
    "    lista_tokens = []\n",
    "    for token in lista_tokens_inicial:\n",
    "        add_token = True\n",
    "        \n",
    "        if use_lemmatizer:\n",
    "            token = lemmatizer.lemmatize(token)\n",
    "        \n",
    "        if (token  in lista_stopwords):\n",
    "            add_token = False\n",
    "        if vocab is not None and token not in vocab:\n",
    "            add_token = False\n",
    "        \n",
    "        if add_token:\n",
    "            lista_tokens.append(token)\n",
    "    \n",
    "    \n",
    "    return lista_tokens"
   ]
  },
  {
   "cell_type": "code",
   "execution_count": 9,
   "metadata": {},
   "outputs": [],
   "source": [
    "# Limpeza do texto através de Expressões Regulares\n",
    "def limpa_texto(texto):\n",
    "    # link\n",
    "    texto = re.sub('(http|ftp|https)://([\\w_-]+(?:(?:\\.[\\w_-]+)+))([\\w.,@?^=%&:/~+#-]*[\\w@?^=%&/~+#-])?', '', texto)\n",
    "    # numero string com números não estamos retirando inicialmente (COVID-19)\n",
    "    texto = re.sub(r'\\d+(?:\\.\\d*(?:[eE]\\d+))?', 'number', texto)\n",
    "    texto = re.sub(r'\\s+', ' ', texto)\n",
    "    return texto"
   ]
  },
  {
   "cell_type": "code",
   "execution_count": 10,
   "metadata": {},
   "outputs": [],
   "source": [
    "#Labels. Pemite agrupar negativos e positivos\n",
    "def get_labels_dict(lista_sentimentos, agrupar_labels):\n",
    "    if not agrupar_labels:\n",
    "        return {'Extremely Negative': -2 , 'Negative': -1, 'Neutral': 0, 'Positive': 1, 'Extremely Positive': 2}\n",
    "    else:\n",
    "        return {'Negative': -1 ,'Neutral': 0, 'Positive': 1}\n",
    "    \n",
    "    "
   ]
  },
  {
   "cell_type": "code",
   "execution_count": 11,
   "metadata": {},
   "outputs": [],
   "source": [
    "# Carrega o arquivo de vocabulário\n",
    "def carrega_vocabulario(file_name='glove.6B.100d.txt'):\n",
    "    with open(file_name,'r', encoding=\"utf8\") as f:\n",
    "        word_vocab = set()\n",
    "        \n",
    "        for line in f:\n",
    "            line_ = line.strip() \n",
    "            v = line_.split()[0]            \n",
    "            word_vocab.add(v)\n",
    "            \n",
    "    return word_vocab"
   ]
  },
  {
   "cell_type": "code",
   "execution_count": 35,
   "metadata": {},
   "outputs": [],
   "source": [
    "# Separa o texto em tokens, retornando um nparray\n",
    "def carrega_tokens_word_freq(lista_texto, use_twitter_tokenizer, use_vocabulario, use_lemmatizer):\n",
    "    if use_vocabulario:\n",
    "        vocab = carrega_vocabulario()    \n",
    "    else:\n",
    "        vocab = None\n",
    "        \n",
    "    feature_tokens = []\n",
    "    for texto in lista_texto:\n",
    "        texto_limpo = limpa_texto(texto)\n",
    "        tokens_add = split_tokens_word_freq(texto_limpo, \n",
    "                                            vocab=vocab, \n",
    "                                            use_twitter_tokenizer=use_twitter_tokenizer, \n",
    "                                            use_lemmatizer=use_lemmatizer)\n",
    "        feature_tokens.append(tokens_add)\n",
    "\n",
    "    feature_tokens = np.asarray(feature_tokens)\n",
    "    return feature_tokens"
   ]
  },
  {
   "cell_type": "code",
   "execution_count": 34,
   "metadata": {},
   "outputs": [],
   "source": [
    "# Retorna as palavras que aparecem nos diferentes labels, possuindo uma frequencia minima\n",
    "def get_word_frequency_by_label(min_frequency, features, labels, label_filter):\n",
    "    \n",
    "    vet = [features[i] for i,l in enumerate(labels) if l == label_filter ]\n",
    "    word_list = [word for list_token in vet for word in list_token ]\n",
    "    counter = Counter(word_list)\n",
    "    top_list = counter.most_common(20)\n",
    "    min_freq = int(len(vet) * min_frequency)\n",
    "    lista_min_freq =[]\n",
    "    \n",
    "    for t in top_list:\n",
    "        cont = 0\n",
    "        for item in vet:            \n",
    "            if t[0] in item:\n",
    "                cont+=1\n",
    "            if cont >= min_freq:\n",
    "                if t[0] not in lista_min_freq:\n",
    "                    lista_min_freq.append(t[0])\n",
    "    return lista_min_freq"
   ]
  },
  {
   "cell_type": "code",
   "execution_count": 14,
   "metadata": {},
   "outputs": [],
   "source": [
    "# Retorna um conjunto de palavras que pode ter pouco impacto ou negativo na analise por ter alta frequencia e aparecer em todos os labels\n",
    "def get_words_with_lower_impact(min_frequency, features, labels, label_dict):\n",
    "    \n",
    "    list_by_label = {}\n",
    "    retorno = []\n",
    "    \n",
    "    for l in label_dict:\n",
    "        list_by_label[l] = get_word_frequency_by_label(min_frequency, features, labels, label_dict[l])\n",
    "    \n",
    "    for label in list_by_label:\n",
    "        for word in list_by_label[label]:\n",
    "            for label_pesquisa in list_by_label:\n",
    "                if label_pesquisa == label:\n",
    "                    continue;\n",
    "                if word in list_by_label[label_pesquisa]:\n",
    "                    if word not in retorno:\n",
    "                        \n",
    "                        retorno.append(word)\n",
    "                \n",
    "    return retorno\n",
    "    \n",
    "    \n",
    "\n",
    "    \n",
    "    \n",
    "    "
   ]
  },
  {
   "cell_type": "code",
   "execution_count": 15,
   "metadata": {},
   "outputs": [],
   "source": [
    "# Realiza o pre-processamento do dataset, chamando as rotinas de limpeza, separação de tokens.\n",
    "# Trtar words lower impact tenta retirar palavras que tem uma frequencia minima e aparecem nos diferentes labels\n",
    "#dados_pd - panda com o dataset\n",
    "def pre_processamento_word_freq(dados_pd, agrupar_labels=False, \n",
    "                                use_twitter_tokenizer=True, use_lemmatizer=True, \n",
    "                                tratar_words_lower_impact=True, min_length_word=0, \n",
    "                                use_vocabulario=False):\n",
    "    \n",
    "    lista_sentimentos = dados_pd.Sentiment.unique()\n",
    "    lista_sentimentos.sort()\n",
    "    label_dict = get_labels_dict(lista_sentimentos, agrupar_labels)\n",
    "    labels = [label_dict[label.split()[-1]] for label in dados_pd.Sentiment]\n",
    "    labels = np.asarray(labels)\n",
    "    \n",
    "    feature_tokens = carrega_tokens_word_freq(dados_pd.OriginalTweet, \n",
    "                                              use_twitter_tokenizer=use_twitter_tokenizer, \n",
    "                                              use_lemmatizer=use_lemmatizer, \n",
    "                                              use_vocabulario=use_vocabulario)\n",
    "    \n",
    "    words_lower_impact = []\n",
    "    if tratar_words_lower_impact:\n",
    "        words_lower_impact = get_words_with_lower_impact(.15, feature_tokens, labels, label_dict)\n",
    "        print(words_lower_impact)\n",
    "    \n",
    "    feature_str = []\n",
    "    for f_token in feature_tokens:\n",
    "        linha = \" \".join([token for token in f_token if token not in words_lower_impact and len(token) > min_length_word])\n",
    "        feature_str.append(linha)\n",
    "    feature_str = np.asarray(feature_str)\n",
    "    \n",
    "    \n",
    "    \n",
    "    return feature_str, labels, label_dict"
   ]
  },
  {
   "cell_type": "code",
   "execution_count": 16,
   "metadata": {},
   "outputs": [],
   "source": [
    "# Visualização da Confusion Matrix\n",
    "def monta_confusion_matrix(y_pred,y_test):\n",
    "    conf_mat = confusion_matrix(y_test, y_pred)\n",
    "    fig, ax = plt.subplots(figsize=(8,6))\n",
    "    sns.heatmap(conf_mat, annot=True, fmt='d',\n",
    "            xticklabels=label_dict, yticklabels=label_dict)\n",
    "    plt.xlabel('Predicted')\n",
    "    plt.ylabel('Actual')\n",
    "    plt.show()"
   ]
  },
  {
   "cell_type": "markdown",
   "metadata": {},
   "source": [
    "## Execução, Modelagem e Teste"
   ]
  },
  {
   "cell_type": "code",
   "execution_count": 17,
   "metadata": {},
   "outputs": [],
   "source": [
    "dados = pd.read_csv('Corona_NLP_train.csv', engine='python') #sem o parâmetro engine estava gerando erro de unicode"
   ]
  },
  {
   "cell_type": "code",
   "execution_count": 18,
   "metadata": {},
   "outputs": [
    {
     "data": {
      "text/html": [
       "<div>\n",
       "<style scoped>\n",
       "    .dataframe tbody tr th:only-of-type {\n",
       "        vertical-align: middle;\n",
       "    }\n",
       "\n",
       "    .dataframe tbody tr th {\n",
       "        vertical-align: top;\n",
       "    }\n",
       "\n",
       "    .dataframe thead th {\n",
       "        text-align: right;\n",
       "    }\n",
       "</style>\n",
       "<table border=\"1\" class=\"dataframe\">\n",
       "  <thead>\n",
       "    <tr style=\"text-align: right;\">\n",
       "      <th></th>\n",
       "      <th>UserName</th>\n",
       "      <th>ScreenName</th>\n",
       "      <th>Location</th>\n",
       "      <th>TweetAt</th>\n",
       "      <th>OriginalTweet</th>\n",
       "      <th>Sentiment</th>\n",
       "    </tr>\n",
       "  </thead>\n",
       "  <tbody>\n",
       "    <tr>\n",
       "      <th>0</th>\n",
       "      <td>3799</td>\n",
       "      <td>48751</td>\n",
       "      <td>London</td>\n",
       "      <td>16-03-2020</td>\n",
       "      <td>@MeNyrbie @Phil_Gahan @Chrisitv https://t.co/i...</td>\n",
       "      <td>Neutral</td>\n",
       "    </tr>\n",
       "    <tr>\n",
       "      <th>1</th>\n",
       "      <td>3800</td>\n",
       "      <td>48752</td>\n",
       "      <td>UK</td>\n",
       "      <td>16-03-2020</td>\n",
       "      <td>advice Talk to your neighbours family to excha...</td>\n",
       "      <td>Positive</td>\n",
       "    </tr>\n",
       "    <tr>\n",
       "      <th>2</th>\n",
       "      <td>3801</td>\n",
       "      <td>48753</td>\n",
       "      <td>Vagabonds</td>\n",
       "      <td>16-03-2020</td>\n",
       "      <td>Coronavirus Australia: Woolworths to give elde...</td>\n",
       "      <td>Positive</td>\n",
       "    </tr>\n",
       "    <tr>\n",
       "      <th>3</th>\n",
       "      <td>3802</td>\n",
       "      <td>48754</td>\n",
       "      <td>NaN</td>\n",
       "      <td>16-03-2020</td>\n",
       "      <td>My food stock is not the only one which is emp...</td>\n",
       "      <td>Positive</td>\n",
       "    </tr>\n",
       "    <tr>\n",
       "      <th>4</th>\n",
       "      <td>3803</td>\n",
       "      <td>48755</td>\n",
       "      <td>NaN</td>\n",
       "      <td>16-03-2020</td>\n",
       "      <td>Me, ready to go at supermarket during the #COV...</td>\n",
       "      <td>Extremely Negative</td>\n",
       "    </tr>\n",
       "  </tbody>\n",
       "</table>\n",
       "</div>"
      ],
      "text/plain": [
       "   UserName  ScreenName   Location     TweetAt  \\\n",
       "0      3799       48751     London  16-03-2020   \n",
       "1      3800       48752         UK  16-03-2020   \n",
       "2      3801       48753  Vagabonds  16-03-2020   \n",
       "3      3802       48754        NaN  16-03-2020   \n",
       "4      3803       48755        NaN  16-03-2020   \n",
       "\n",
       "                                       OriginalTweet           Sentiment  \n",
       "0  @MeNyrbie @Phil_Gahan @Chrisitv https://t.co/i...             Neutral  \n",
       "1  advice Talk to your neighbours family to excha...            Positive  \n",
       "2  Coronavirus Australia: Woolworths to give elde...            Positive  \n",
       "3  My food stock is not the only one which is emp...            Positive  \n",
       "4  Me, ready to go at supermarket during the #COV...  Extremely Negative  "
      ]
     },
     "execution_count": 18,
     "metadata": {},
     "output_type": "execute_result"
    }
   ],
   "source": [
    "dados.head()"
   ]
  },
  {
   "cell_type": "markdown",
   "metadata": {},
   "source": [
    "### Pré-processamento para separação das features e labels"
   ]
  },
  {
   "cell_type": "code",
   "execution_count": 36,
   "metadata": {},
   "outputs": [
    {
     "name": "stdout",
     "output_type": "stream",
     "text": [
      "['number', 'prices', 'supermarket', 'store']\n"
     ]
    }
   ],
   "source": [
    "features, labels, label_dict = pre_processamento_word_freq(dados,agrupar_labels=True,\n",
    "                                                           use_twitter_tokenizer=True,\n",
    "                                                           use_vocabulario=True,\n",
    "                                                           use_lemmatizer=False, \n",
    "                                                           tratar_words_lower_impact=True)"
   ]
  },
  {
   "cell_type": "markdown",
   "metadata": {},
   "source": [
    "### TF-IDF "
   ]
  },
  {
   "cell_type": "code",
   "execution_count": 38,
   "metadata": {},
   "outputs": [
    {
     "data": {
      "text/plain": [
       "5872"
      ]
     },
     "execution_count": 38,
     "metadata": {},
     "output_type": "execute_result"
    }
   ],
   "source": [
    "vectorizer = TfidfVectorizer(strip_accents='unicode', analyzer='word', ngram_range=(1,1), norm='l2', max_df=0.8, min_df=10)   # , min_df=10, token_pattern=r'(?u)[\\w#][\\w-]*\\b'\n",
    "tf_idf_vet = vectorizer.fit_transform(features).toarray()\n",
    "feature_names = vectorizer.get_feature_names()\n",
    "len(feature_names)"
   ]
  },
  {
   "cell_type": "markdown",
   "metadata": {},
   "source": [
    "### Opcional - Mostra a relação entre unigrams e caso escolhido bigrams e trigrams com os labels"
   ]
  },
  {
   "cell_type": "code",
   "execution_count": null,
   "metadata": {},
   "outputs": [],
   "source": [
    "mostra_relacao_ngrams_sentimento(tf_idf_vet, feature_names, labels, label_dict)"
   ]
  },
  {
   "cell_type": "markdown",
   "metadata": {},
   "source": [
    "### Separar train e validation"
   ]
  },
  {
   "cell_type": "code",
   "execution_count": 39,
   "metadata": {},
   "outputs": [],
   "source": [
    "X_train, X_test, y_train, y_test = train_test_split(tf_idf_vet, labels,  test_size=0.2, random_state=0)"
   ]
  },
  {
   "cell_type": "markdown",
   "metadata": {},
   "source": [
    "### Logistic Regression"
   ]
  },
  {
   "cell_type": "code",
   "execution_count": 40,
   "metadata": {},
   "outputs": [],
   "source": [
    "model_logistic = LogisticRegression(random_state=0,max_iter=300)"
   ]
  },
  {
   "cell_type": "code",
   "execution_count": null,
   "metadata": {},
   "outputs": [],
   "source": [
    "model_logistic.fit(X_train, y_train)\n",
    "y_pred = model_logistic.predict(X_test)\n",
    "print(\"Accurary:\", metrics.accuracy_score(y_test,y_pred))\n",
    "monta_confusion_matrix(y_pred, y_test)"
   ]
  },
  {
   "cell_type": "markdown",
   "metadata": {},
   "source": [
    "### Random Forest"
   ]
  },
  {
   "cell_type": "code",
   "execution_count": 346,
   "metadata": {},
   "outputs": [],
   "source": [
    "#model_rf = RandomForestClassifier(n_estimators=200,max_depth=50) best\n",
    "model_rf = RandomForestClassifier(n_estimators=200) #, max_depth=100"
   ]
  },
  {
   "cell_type": "code",
   "execution_count": 347,
   "metadata": {},
   "outputs": [
    {
     "name": "stdout",
     "output_type": "stream",
     "text": [
      "Accurary: 0.7733236151603499\n"
     ]
    },
    {
     "data": {
      "image/png": "[encoded data removed]",
      "text/plain": [
       "<Figure size 576x432 with 2 Axes>"
      ]
     },
     "metadata": {
      "needs_background": "light"
     },
     "output_type": "display_data"
    }
   ],
   "source": [
    "model_rf.fit(X_train, y_train)\n",
    "y_pred = model_rf.predict(X_test)\n",
    "print(\"Accurary:\", metrics.accuracy_score(y_test,y_pred))\n",
    "monta_confusion_matrix(y_pred, y_test)"
   ]
  },
  {
   "cell_type": "code",
   "execution_count": null,
   "metadata": {},
   "outputs": [],
   "source": []
  }
 ],
 "metadata": {
  "kernelspec": {
   "display_name": "Python 3",
   "language": "python",
   "name": "python3"
  },
  "language_info": {
   "codemirror_mode": {
    "name": "ipython",
    "version": 3
   },
   "file_extension": ".py",
   "mimetype": "text/x-python",
   "name": "python",
   "nbconvert_exporter": "python",
   "pygments_lexer": "ipython3",
   "version": "3.8.5"
  }
 },
 "nbformat": 4,
 "nbformat_minor": 4
}
